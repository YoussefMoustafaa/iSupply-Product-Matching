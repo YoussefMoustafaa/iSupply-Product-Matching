{
 "cells": [
  {
   "cell_type": "code",
   "execution_count": 3,
   "metadata": {},
   "outputs": [],
   "source": [
    "import pandas as pd\n",
    "import nltk\n",
    "from nltk.tokenize import word_tokenize\n",
    "from nltk.corpus import stopwords\n",
    "from sklearn.feature_extraction.text import TfidfVectorizer\n",
    "from sklearn.model_selection import train_test_split\n",
    "from sklearn.linear_model import LogisticRegression\n",
    "from sklearn.metrics import accuracy_score\n",
    "import re\n",
    "import nltk"
   ]
  },
  {
   "cell_type": "code",
   "execution_count": 9,
   "metadata": {},
   "outputs": [
    {
     "data": {
      "text/html": [
       "<div>\n",
       "<style scoped>\n",
       "    .dataframe tbody tr th:only-of-type {\n",
       "        vertical-align: middle;\n",
       "    }\n",
       "\n",
       "    .dataframe tbody tr th {\n",
       "        vertical-align: top;\n",
       "    }\n",
       "\n",
       "    .dataframe thead th {\n",
       "        text-align: right;\n",
       "    }\n",
       "</style>\n",
       "<table border=\"1\" class=\"dataframe\">\n",
       "  <thead>\n",
       "    <tr style=\"text-align: right;\">\n",
       "      <th></th>\n",
       "      <th>sku</th>\n",
       "      <th>marketplace_product_name_ar</th>\n",
       "      <th>seller_item_name</th>\n",
       "      <th>price</th>\n",
       "    </tr>\n",
       "  </thead>\n",
       "  <tbody>\n",
       "    <tr>\n",
       "      <th>0</th>\n",
       "      <td>1322</td>\n",
       "      <td>استوهالت 40 مجم 14 كبسول</td>\n",
       "      <td>ESTOHALT 40 MG 14 CAP</td>\n",
       "      <td>56.5</td>\n",
       "    </tr>\n",
       "    <tr>\n",
       "      <th>1</th>\n",
       "      <td>1322</td>\n",
       "      <td>استوهالت 40 مجم 14 كبسول</td>\n",
       "      <td>استوهالت 40 مجم 14 ك</td>\n",
       "      <td>56.5</td>\n",
       "    </tr>\n",
       "    <tr>\n",
       "      <th>2</th>\n",
       "      <td>1322</td>\n",
       "      <td>استوهالت 40 مجم 14 كبسول</td>\n",
       "      <td>استوهالت 40 مجم 14 ك</td>\n",
       "      <td>56.5</td>\n",
       "    </tr>\n",
       "    <tr>\n",
       "      <th>3</th>\n",
       "      <td>1322</td>\n",
       "      <td>استوهالت 40 مجم 14 كبسول</td>\n",
       "      <td>استوهالت 40 مجم 14 ك</td>\n",
       "      <td>56.5</td>\n",
       "    </tr>\n",
       "    <tr>\n",
       "      <th>4</th>\n",
       "      <td>1322</td>\n",
       "      <td>استوهالت 40 مجم 14 كبسول</td>\n",
       "      <td>استوهالت 40 مجم 14 ك</td>\n",
       "      <td>56.5</td>\n",
       "    </tr>\n",
       "    <tr>\n",
       "      <th>5</th>\n",
       "      <td>1322</td>\n",
       "      <td>استوهالت 40 مجم 14 كبسول</td>\n",
       "      <td>استوهالت 40 مجم 14 ك</td>\n",
       "      <td>56.5</td>\n",
       "    </tr>\n",
       "    <tr>\n",
       "      <th>6</th>\n",
       "      <td>1322</td>\n",
       "      <td>استوهالت 40 مجم 14 كبسول</td>\n",
       "      <td>استوهالت 40 مجم 14 ك</td>\n",
       "      <td>56.5</td>\n",
       "    </tr>\n",
       "    <tr>\n",
       "      <th>7</th>\n",
       "      <td>1322</td>\n",
       "      <td>استوهالت 40 مجم 14 كبسول</td>\n",
       "      <td>استوهالت 40 مجم 1 شريط * 14 كبسولة</td>\n",
       "      <td>56.5</td>\n",
       "    </tr>\n",
       "    <tr>\n",
       "      <th>8</th>\n",
       "      <td>1322</td>\n",
       "      <td>استوهالت 40 مجم 14 كبسول</td>\n",
       "      <td>استوهالت 40 مجم</td>\n",
       "      <td>56.5</td>\n",
       "    </tr>\n",
       "    <tr>\n",
       "      <th>9</th>\n",
       "      <td>1322</td>\n",
       "      <td>استوهالت 40 مجم 14 كبسول</td>\n",
       "      <td>استوهالت 40 كبسول س ج</td>\n",
       "      <td>56.5</td>\n",
       "    </tr>\n",
       "  </tbody>\n",
       "</table>\n",
       "</div>"
      ],
      "text/plain": [
       "    sku marketplace_product_name_ar                    seller_item_name  price\n",
       "0  1322    استوهالت 40 مجم 14 كبسول               ESTOHALT 40 MG 14 CAP   56.5\n",
       "1  1322    استوهالت 40 مجم 14 كبسول                استوهالت 40 مجم 14 ك   56.5\n",
       "2  1322    استوهالت 40 مجم 14 كبسول                استوهالت 40 مجم 14 ك   56.5\n",
       "3  1322    استوهالت 40 مجم 14 كبسول                استوهالت 40 مجم 14 ك   56.5\n",
       "4  1322    استوهالت 40 مجم 14 كبسول                استوهالت 40 مجم 14 ك   56.5\n",
       "5  1322    استوهالت 40 مجم 14 كبسول                استوهالت 40 مجم 14 ك   56.5\n",
       "6  1322    استوهالت 40 مجم 14 كبسول                استوهالت 40 مجم 14 ك   56.5\n",
       "7  1322    استوهالت 40 مجم 14 كبسول  استوهالت 40 مجم 1 شريط * 14 كبسولة   56.5\n",
       "8  1322    استوهالت 40 مجم 14 كبسول                     استوهالت 40 مجم   56.5\n",
       "9  1322    استوهالت 40 مجم 14 كبسول               استوهالت 40 كبسول س ج   56.5"
      ]
     },
     "execution_count": 9,
     "metadata": {},
     "output_type": "execute_result"
    }
   ],
   "source": [
    "df = pd.read_excel(\"Product Matching Dataset.xlsx\", sheet_name=\"Dataset\")\n",
    "df.head(n=10)"
   ]
  },
  {
   "cell_type": "code",
   "execution_count": 10,
   "metadata": {},
   "outputs": [],
   "source": [
    "from nltk.corpus import stopwords\n",
    "stop_words = set(stopwords.words(\"arabic\"))\n",
    "text_column = df[\"seller_item_name\"].astype(str)  # Ensure text format"
   ]
  },
  {
   "cell_type": "code",
   "execution_count": 11,
   "metadata": {},
   "outputs": [],
   "source": [
    "texts = []\n",
    "for text in text_column:\n",
    "    # Remove stopwords\n",
    "    text = \" \".join(word for word in text.split() if word not in stop_words)\n",
    "    # Remove punctuation & special characters (Keep Arabic, English, and Numbers)\n",
    "    text = re.sub(r\"[^\\w\\s\\u0600-\\u06FF]\", \" \", text)\n",
    "    # Remove Arabic diacritics (Tashkeel)\n",
    "    text = re.sub(r\"[\\u064B-\\u065F]\", \"\", text)\n",
    "\n",
    "    text = re.sub(r'[إأآ]', 'ا', text)\n",
    "    text = re.sub(r'ى', 'ي', text)\n",
    "    text = re.sub(r'ة', 'ه ', text)\n",
    "    text = re.sub(r'ؤ', 'و', text)\n",
    "    text = re.sub(r'ئ', 'ي', text)\n",
    "    text = re.sub(r'ــ', '', text)\n",
    "    text = re.sub(r\"(\\d+)\", r\" \\1 \", text)\n",
    "    text = re.sub(r\"\\b[\\u0600-\\u06FF]\\b\", \"\", text)\n",
    "    text = re.sub(r'([\\u0600-\\u06FF])\\1{2,}', r'\\1\\1', text)\n",
    "    text = re.sub(r'(.)\\1+', r'\\1', text) # remove repetitions\n",
    "    # Remove short/incomplete words (single characters or partial words)\n",
    "    text = re.sub(r'\\b\\w\\b', '', text)  # Removes standalone single characters\n",
    "    text = re.sub(r'\\b(?:سعر جديد|س جديد|س جدي|س ج|ركز)\\b', '', text)# Remove specific unwanted phrases\n",
    "    text = re.sub( r'مرهم|اكريم', 'كريم', text)\n",
    "    text = re.sub( r'قرص|اقراص|كبسوله', 'كبسول', text)\n",
    "    text = re.sub( r'اقراص|شريط|شرائط|شريطين', 'قرص', text)\n",
    "    text = re.sub( r'امبولات|امبوله|حقن', 'امبول', text)\n",
    "    text = re.sub( r'لبوس|لبوس اطفال|لبوس اطفال فاركو', 'اقماع للاطفال', text)\n",
    "    text = re.sub(r\"\\s+\", \" \", text).strip()\n",
    "    # Append cleaned text\n",
    "    texts.append(text)"
   ]
  },
  {
   "cell_type": "code",
   "execution_count": 12,
   "metadata": {},
   "outputs": [
    {
     "data": {
      "text/plain": [
       "['فورتيموكس 10 ملي نقط',\n",
       " 'فورتيموكس قطره عين 10',\n",
       " 'فورتيموكس قطره عين 10',\n",
       " 'فورتيموكس مجم مل قطره 10 مل',\n",
       " 'فورتي موكس نقط جديد',\n",
       " 'فورتيموكس قطره',\n",
       " 'فورتيموكس قطره',\n",
       " 'فورتيمكس نقط',\n",
       " 'فورتيمكس نقط',\n",
       " 'فورتيموكس قطره']"
      ]
     },
     "execution_count": 7,
     "metadata": {},
     "output_type": "execute_result"
    }
   ],
   "source": [
    "texts[14260:14270 ]"
   ]
  },
  {
   "cell_type": "code",
   "execution_count": 13,
   "metadata": {},
   "outputs": [
    {
     "name": "stdout",
     "output_type": "stream",
     "text": [
      "Model Accuracy: 0.8627\n"
     ]
    }
   ],
   "source": [
    "x=texts\n",
    "y=df[\"sku\"]\n",
    "vectorize = TfidfVectorizer(max_features = 500)\n",
    "x_tfidf = vectorize.fit_transform(x)\n",
    "\n",
    "X_train, X_test, y_train, y_test = train_test_split(x_tfidf, y, test_size=0.3, random_state=42)\n",
    "\n",
    "# Train Logistic Regression Model\n",
    "model = LogisticRegression()\n",
    "model.fit(X_train, y_train)\n",
    "\n",
    "# Predict on Test Data\n",
    "y_pred = model.predict(X_test)\n",
    "\n",
    "# Evaluate Accuracy\n",
    "accuracy = accuracy_score(y_test, y_pred)\n",
    "print(f\"Model Accuracy: {accuracy:.4f}\")"
   ]
  },
  {
   "cell_type": "code",
   "execution_count": 23,
   "metadata": {},
   "outputs": [],
   "source": [
    "from symspellpy import SymSpell\n",
    "\n",
    "# Assuming the column containing product names is named 'Product_Name'\n",
    "product_column = \"marketplace_product_name_ar\"  # Change this to the actual column name\n",
    "\n",
    "# Create a dictionary for SymSpell (word -> frequency)\n",
    "word_freq_dict = {}\n",
    "\n",
    "# Count occurrences of each product name\n",
    "for product in df[product_column].dropna():\n",
    "    normalized_product = str(product).strip()  # Ensure text format and remove spaces\n",
    "    word_freq_dict[normalized_product] = word_freq_dict.get(normalized_product, 0) + 1\n",
    "\n",
    "# Save dictionary to a text file\n",
    "dict_file = \"product_dictionary.txt\"\n",
    "with open(dict_file, \"w\", encoding=\"utf-8\") as f:\n",
    "    for word, freq in word_freq_dict.items():\n",
    "        f.write(f\"{word} {freq}\\n\")\n",
    "\n",
    "# Initialize SymSpell\n",
    "sym_spell = SymSpell(max_dictionary_edit_distance=2, prefix_length=7)"
   ]
  },
  {
   "cell_type": "code",
   "execution_count": 37,
   "metadata": {},
   "outputs": [
    {
     "name": "stdout",
     "output_type": "stream",
     "text": [
      "\n",
      "=== Product Name Correction with Similarity Checking ===\n",
      "Input: استوهلت 40 مجم كسبول -> Suggested: استوهالت 40 مجم 14 كبسول (Similarity: 0.86)\n",
      "Input: ريتاس 5مجم س ج 57 -> Suggested: تريتاس 5 مجم 14 قرص (Similarity: 0.67)\n",
      "Input: استوهالت 40 جم كسبول -> Suggested: استوهالت 40 مجم 14 كبسول (Similarity: 0.86)\n",
      "Input: اماريل 3مج30ق س ج/سانوفي -> Suggested: اماريل 3 مجم 30 قرص (Similarity: 0.60)\n"
     ]
    }
   ],
   "source": [
    "from difflib import SequenceMatcher\n",
    "\n",
    "sym_spell.load_dictionary(dict_file, term_index=0, count_index=1, encoding=\"utf-8\")\n",
    "\n",
    "# Test with product names from the dataset\n",
    "# Specify the correct column containing product names\n",
    "product_column = \"marketplace_product_name_ar\"  # Change if needed\n",
    "product_names = df[product_column].dropna().unique()  # Remove NaN and get unique names\n",
    "\n",
    "# Function to get the best match based on similarity\n",
    "def get_best_match(input_name, product_names):\n",
    "    best_match = None\n",
    "    highest_similarity = 0\n",
    "\n",
    "    for product_name in product_names:\n",
    "        similarity = SequenceMatcher(None, input_name, product_name).ratio()\n",
    "\n",
    "        if similarity > highest_similarity:\n",
    "            highest_similarity = similarity\n",
    "            best_match = product_name\n",
    "\n",
    "    return best_match, highest_similarity\n",
    "\n",
    "# Test with product names (misspelled inputs)\n",
    "test_names = [\n",
    "    \"استوهلت 40 مجم كسبول\",  # Misspelled كبسول\n",
    "    \"ريتاس 5مجم س ج 57\",  # Misspelled 40 مجم\n",
    "    \"استوهالت 40 جم كسبول\",  # Misspelled جم كبسول\n",
    "    \"اماريل 3مج30ق س ج/سانوفي\",  # Different form of كبسول\n",
    "]\n",
    "\n",
    "print(\"\\n=== Product Name Correction with Similarity Checking ===\")\n",
    "for test_name in test_names:\n",
    "    best_match, similarity = get_best_match(test_name, product_names)\n",
    "    \n",
    "    if best_match:\n",
    "        print(f\"Input: {test_name} -> Suggested: {best_match} (Similarity: {similarity:.2f})\")\n",
    "    else:\n",
    "        print(f\"Input: {test_name} -> No suggestions found.\")"
   ]
  }
 ],
 "metadata": {
  "kernelspec": {
   "display_name": "Python 3 (ipykernel)",
   "language": "python",
   "name": "python3"
  },
  "language_info": {
   "codemirror_mode": {
    "name": "ipython",
    "version": 3
   },
   "file_extension": ".py",
   "mimetype": "text/x-python",
   "name": "python",
   "nbconvert_exporter": "python",
   "pygments_lexer": "ipython3",
   "version": "3.12.0"
  }
 },
 "nbformat": 4,
 "nbformat_minor": 2
}
