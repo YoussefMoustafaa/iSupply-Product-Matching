{
 "cells": [
  {
   "cell_type": "code",
   "execution_count": 1,
   "metadata": {},
   "outputs": [],
   "source": [
    "import pandas as pd\n",
    "import nltk\n",
    "from nltk.tokenize import word_tokenize\n",
    "from nltk.corpus import stopwords\n",
    "from sklearn.feature_extraction.text import TfidfVectorizer\n",
    "from sklearn.model_selection import train_test_split\n",
    "from sklearn.linear_model import LogisticRegression\n",
    "from sklearn.metrics import accuracy_score\n",
    "import re\n",
    "import nltk"
   ]
  },
  {
   "cell_type": "code",
   "execution_count": 2,
   "metadata": {},
   "outputs": [
    {
     "data": {
      "text/html": [
       "<div>\n",
       "<style scoped>\n",
       "    .dataframe tbody tr th:only-of-type {\n",
       "        vertical-align: middle;\n",
       "    }\n",
       "\n",
       "    .dataframe tbody tr th {\n",
       "        vertical-align: top;\n",
       "    }\n",
       "\n",
       "    .dataframe thead th {\n",
       "        text-align: right;\n",
       "    }\n",
       "</style>\n",
       "<table border=\"1\" class=\"dataframe\">\n",
       "  <thead>\n",
       "    <tr style=\"text-align: right;\">\n",
       "      <th></th>\n",
       "      <th>sku</th>\n",
       "      <th>marketplace_product_name_ar</th>\n",
       "      <th>seller_item_name</th>\n",
       "      <th>price</th>\n",
       "    </tr>\n",
       "  </thead>\n",
       "  <tbody>\n",
       "    <tr>\n",
       "      <th>0</th>\n",
       "      <td>1322</td>\n",
       "      <td>استوهالت 40 مجم 14 كبسول</td>\n",
       "      <td>ESTOHALT 40 MG 14 CAP</td>\n",
       "      <td>56.5</td>\n",
       "    </tr>\n",
       "    <tr>\n",
       "      <th>1</th>\n",
       "      <td>1322</td>\n",
       "      <td>استوهالت 40 مجم 14 كبسول</td>\n",
       "      <td>استوهالت 40 مجم 14 ك</td>\n",
       "      <td>56.5</td>\n",
       "    </tr>\n",
       "    <tr>\n",
       "      <th>2</th>\n",
       "      <td>1322</td>\n",
       "      <td>استوهالت 40 مجم 14 كبسول</td>\n",
       "      <td>استوهالت 40 مجم 14 ك</td>\n",
       "      <td>56.5</td>\n",
       "    </tr>\n",
       "    <tr>\n",
       "      <th>3</th>\n",
       "      <td>1322</td>\n",
       "      <td>استوهالت 40 مجم 14 كبسول</td>\n",
       "      <td>استوهالت 40 مجم 14 ك</td>\n",
       "      <td>56.5</td>\n",
       "    </tr>\n",
       "    <tr>\n",
       "      <th>4</th>\n",
       "      <td>1322</td>\n",
       "      <td>استوهالت 40 مجم 14 كبسول</td>\n",
       "      <td>استوهالت 40 مجم 14 ك</td>\n",
       "      <td>56.5</td>\n",
       "    </tr>\n",
       "    <tr>\n",
       "      <th>5</th>\n",
       "      <td>1322</td>\n",
       "      <td>استوهالت 40 مجم 14 كبسول</td>\n",
       "      <td>استوهالت 40 مجم 14 ك</td>\n",
       "      <td>56.5</td>\n",
       "    </tr>\n",
       "    <tr>\n",
       "      <th>6</th>\n",
       "      <td>1322</td>\n",
       "      <td>استوهالت 40 مجم 14 كبسول</td>\n",
       "      <td>استوهالت 40 مجم 14 ك</td>\n",
       "      <td>56.5</td>\n",
       "    </tr>\n",
       "    <tr>\n",
       "      <th>7</th>\n",
       "      <td>1322</td>\n",
       "      <td>استوهالت 40 مجم 14 كبسول</td>\n",
       "      <td>استوهالت 40 مجم 1 شريط * 14 كبسولة</td>\n",
       "      <td>56.5</td>\n",
       "    </tr>\n",
       "    <tr>\n",
       "      <th>8</th>\n",
       "      <td>1322</td>\n",
       "      <td>استوهالت 40 مجم 14 كبسول</td>\n",
       "      <td>استوهالت 40 مجم</td>\n",
       "      <td>56.5</td>\n",
       "    </tr>\n",
       "    <tr>\n",
       "      <th>9</th>\n",
       "      <td>1322</td>\n",
       "      <td>استوهالت 40 مجم 14 كبسول</td>\n",
       "      <td>استوهالت 40 كبسول س ج</td>\n",
       "      <td>56.5</td>\n",
       "    </tr>\n",
       "  </tbody>\n",
       "</table>\n",
       "</div>"
      ],
      "text/plain": [
       "    sku marketplace_product_name_ar                    seller_item_name  price\n",
       "0  1322    استوهالت 40 مجم 14 كبسول               ESTOHALT 40 MG 14 CAP   56.5\n",
       "1  1322    استوهالت 40 مجم 14 كبسول                استوهالت 40 مجم 14 ك   56.5\n",
       "2  1322    استوهالت 40 مجم 14 كبسول                استوهالت 40 مجم 14 ك   56.5\n",
       "3  1322    استوهالت 40 مجم 14 كبسول                استوهالت 40 مجم 14 ك   56.5\n",
       "4  1322    استوهالت 40 مجم 14 كبسول                استوهالت 40 مجم 14 ك   56.5\n",
       "5  1322    استوهالت 40 مجم 14 كبسول                استوهالت 40 مجم 14 ك   56.5\n",
       "6  1322    استوهالت 40 مجم 14 كبسول                استوهالت 40 مجم 14 ك   56.5\n",
       "7  1322    استوهالت 40 مجم 14 كبسول  استوهالت 40 مجم 1 شريط * 14 كبسولة   56.5\n",
       "8  1322    استوهالت 40 مجم 14 كبسول                     استوهالت 40 مجم   56.5\n",
       "9  1322    استوهالت 40 مجم 14 كبسول               استوهالت 40 كبسول س ج   56.5"
      ]
     },
     "execution_count": 2,
     "metadata": {},
     "output_type": "execute_result"
    }
   ],
   "source": [
    "df = pd.read_excel(\"Product Matching Dataset.xlsx\" , sheet_name=\"Dataset\")\n",
    "df.head(n=10)"
   ]
  },
  {
   "cell_type": "code",
   "execution_count": 3,
   "metadata": {},
   "outputs": [],
   "source": [
    "from nltk.corpus import stopwords\n",
    "stop_words = set(stopwords.words(\"arabic\"))\n",
    "text_column = df[\"seller_item_name\"].astype(str)  # Ensure text format"
   ]
  },
  {
   "cell_type": "code",
   "execution_count": null,
   "metadata": {},
   "outputs": [],
   "source": [
    "texts = []\n",
    "for text in text_column:\n",
    "    # Remove stopwords\n",
    "    text = \" \".join(word for word in text.split() if word not in stop_words)\n",
    "    # Remove punctuation & special characters (Keep Arabic, English, and Numbers)\n",
    "    text = re.sub(r\"[^\\w\\s\\u0600-\\u06FF]\", \"\", text)\n",
    "    # Remove Arabic diacritics (Tashkeel)\n",
    "    text = re.sub(r\"[\\u064B-\\u065F]\", \"\", text)\n",
    "\n",
    "    text = re.sub(r'[إأآ]', 'ا', text)\n",
    "    text = re.sub(r'ى', 'ي', text)\n",
    "    text = re.sub(r'ة', 'ه', text)\n",
    "    text = re.sub(r'ؤ', 'و', text)\n",
    "    text = re.sub(r'ئ', 'ي', text)\n",
    "    text = re.sub(r'ــ', '', text)\n",
    "    text = re.sub(r'', '', text)\n",
    "    text = re.sub(r\"(\\d+)\", r\" \\1 \", text)\n",
    "    text = re.sub(r\"\\s+\", \" \", text).strip()\n",
    "    # Append cleaned text\n",
    "    texts.append(text)"
   ]
  },
  {
   "cell_type": "code",
   "execution_count": 10,
   "metadata": {},
   "outputs": [
    {
     "data": {
      "text/plain": [
       "['اوستوهالت 40 مجم اقراص',\n",
       " 'اوستوهالت 40 مجم اقراص',\n",
       " 'اوستوهالت 40 مجم',\n",
       " 'استوهالت 40 مجم 14 جديد',\n",
       " 'استوهالت 40 مجم 14',\n",
       " 'استوهالت 40 مجم 14 ج',\n",
       " 'استوهالت 40 مجم 14 جديد',\n",
       " 'استوهالت 40 مجم 14 كبسوله',\n",
       " 'استوهالت 40 مجم 14 كبسول',\n",
       " 'استوهالت 40 مجم 14 كبسول',\n",
       " 'استوهالت 40 مجم 14 ك',\n",
       " 'استوهالت 40 مجم 14',\n",
       " 'استوهالت 40 مجم 24',\n",
       " 'استوهالت 40 مجم اقراص',\n",
       " 'استوهالت 40 مج',\n",
       " 'استوهالت 40 مج',\n",
       " 'استوهالت 40 م كبسول',\n",
       " 'استوهالت 40 م',\n",
       " 'استوهالت 40 م',\n",
       " 'استوهالت 40 م اقراص']"
      ]
     },
     "execution_count": 10,
     "metadata": {},
     "output_type": "execute_result"
    }
   ],
   "source": [
    "texts[20:40]"
   ]
  }
 ],
 "metadata": {
  "kernelspec": {
   "display_name": "Python 3",
   "language": "python",
   "name": "python3"
  },
  "language_info": {
   "codemirror_mode": {
    "name": "ipython",
    "version": 3
   },
   "file_extension": ".py",
   "mimetype": "text/x-python",
   "name": "python",
   "nbconvert_exporter": "python",
   "pygments_lexer": "ipython3",
   "version": "3.12.3"
  }
 },
 "nbformat": 4,
 "nbformat_minor": 2
}
