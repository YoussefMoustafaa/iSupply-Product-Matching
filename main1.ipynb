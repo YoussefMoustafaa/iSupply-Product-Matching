{
 "cells": [
  {
   "cell_type": "markdown",
   "metadata": {},
   "source": [
    "# Import Libraries"
   ]
  },
  {
   "cell_type": "code",
   "execution_count": 39,
   "metadata": {},
   "outputs": [],
   "source": [
    "import pandas as pd\n",
    "import re\n",
    "import nltk\n",
    "from nltk.corpus import stopwords\n",
    "from nltk.tokenize import word_tokenize\n",
    "from symspellpy import SymSpell\n",
    "from difflib import SequenceMatcher\n",
    "from sklearn.feature_extraction.text import TfidfVectorizer\n",
    "from sklearn.model_selection import train_test_split\n",
    "from sklearn.linear_model import LogisticRegression\n",
    "from sklearn.metrics import accuracy_score\n",
    "import numpy as np\n",
    "import tensorflow as tf\n",
    "from tensorflow.keras.preprocessing.text import Tokenizer\n",
    "from tensorflow.keras.preprocessing.sequence import pad_sequences\n",
    "from tensorflow.keras.models import Sequential\n",
    "from tensorflow.keras.layers import Embedding, LSTM, Dense, Dropout, GRU, Bidirectional\n",
    "from tensorflow.keras.optimizers import Adam\n",
    "from sklearn.preprocessing import LabelEncoder\n",
    "from sklearn.model_selection import train_test_split\n",
    "from sklearn.preprocessing import StandardScaler\n",
    "from tensorflow.keras.callbacks import EarlyStopping"
   ]
  },
  {
   "cell_type": "markdown",
   "metadata": {},
   "source": [
    "# Read Dataset"
   ]
  },
  {
   "cell_type": "code",
   "execution_count": 40,
   "metadata": {},
   "outputs": [],
   "source": [
    "df = pd.read_excel(\"Product Matching Dataset.xlsx\" , sheet_name=\"Dataset\")\n",
    "# df.head(n=10)"
   ]
  },
  {
   "cell_type": "markdown",
   "metadata": {},
   "source": [
    "# Preprocessing"
   ]
  },
  {
   "cell_type": "code",
   "execution_count": 3,
   "metadata": {},
   "outputs": [],
   "source": [
    "# stop_words = set(stopwords.words(\"arabic\")) | set(stopwords.words(\"english\"))\n",
    "\n",
    "# # text_column = df[\"seller_item_name\"].astype(str)  # Ensure text format"
   ]
  },
  {
   "cell_type": "code",
   "execution_count": 42,
   "metadata": {},
   "outputs": [],
   "source": [
    "from qalsadi.lemmatizer import Lemmatizer\n",
    "\n",
    "# Initialize the Arabic lemmatizer\n",
    "lemmatizer = Lemmatizer()\n",
    "\n",
    "def preprocessing(text):\n",
    "    # Convert to lowercase\n",
    "    text = str(text).lower()\n",
    "    \n",
    "    # Remove Arabic diacritics (tashkeel)\n",
    "    text = re.sub(r\"[\\u064B-\\u065F]\", \"\", text)\n",
    "    \n",
    "    # Remove non-Arabic characters except numbers\n",
    "    text = re.sub(r'[^\\u0621-\\u064A0-9\\s]', ' ', text)\n",
    "    \n",
    "    # Remove multiple spaces\n",
    "    text = re.sub(r'\\s+', ' ', text)\n",
    "    \n",
    "    # Standardize specific terms\n",
    "    text = re.sub(r'قرص|\\bق\\b|\\bك\\b|اقراص|كبسوله', 'كبسول', text)\n",
    "    text = re.sub(r'([\\u0600-\\u06FF])\\1+', r'\\1', text)  # Remove Arabic repetition\n",
    "    text = re.sub(r'[إأآ]', 'ا', text)\n",
    "    text = re.sub(r'ى', 'ي', text)\n",
    "    text = re.sub(r'ة', 'ه ', text)\n",
    "    text = re.sub(r'ؤ', 'و', text)\n",
    "    text = re.sub(r'ئ', 'ي', text)\n",
    "    \n",
    "    # Separate numbers that stick to Arabic/English words\n",
    "    text = re.sub(r\"(\\d+)([a-zA-Z\\u0600-\\u06FF]+)\", r\"\\1 \\2\", text)  # Number followed by Arabic/English\n",
    "    text = re.sub(r\"([a-zA-Z\\u0600-\\u06FF]+)(\\d+)\", r\"\\1 \\2\", text)  # Arabic/English followed by number\n",
    "    \n",
    "    # Remove standalone Arabic/English characters (but not numbers)\n",
    "    text = re.sub(r\"\\b[^\\W\\d]\\b\", \"\", text)\n",
    "    \n",
    "    # Remove specific unwanted phrases\n",
    "    text = re.sub(r'\\b(?:سعر جديد|سعر|قديم|س جديد|س جدي|س ج|ركز)\\b', '', text)\n",
    "    text = re.sub(r'مرهم|اكريم', 'كريم', text)\n",
    "    text = re.sub(r'مليجرام|\\bم\\b|مجم', 'مجم', text)\n",
    "    text = re.sub(r'جرام|جم', 'جم', text)\n",
    "    text = re.sub(r'شرائط|شريطين', 'شريط', text)\n",
    "    text = re.sub(r'امبولات|امبوله|حقن', 'امبول', text)\n",
    "    text = re.sub(r'لبوس|لبوس اطفال', 'اقماع', text)\n",
    "    \n",
    "    # Remove multiple spaces\n",
    "    text = re.sub(r\"\\s+\", \" \", text).strip()\n",
    "    \n",
    "    # Tokenize the text\n",
    "    tokens = text.split()\n",
    "    \n",
    "    # Lemmatize each token\n",
    "    lemmatized_tokens = [lemmatizer.lemmatize(token) for token in tokens]\n",
    "    \n",
    "    # Join the lemmatized tokens back into a single string\n",
    "    lemmatized_text = \" \".join(lemmatized_tokens)\n",
    "    \n",
    "    return lemmatized_text"
   ]
  },
  {
   "cell_type": "code",
   "execution_count": 43,
   "metadata": {},
   "outputs": [
    {
     "name": "stderr",
     "output_type": "stream",
     "text": [
      "c:\\Python312\\Lib\\site-packages\\qalsadi\\analex.py:109: SyntaxWarning: invalid escape sequence '\\w'\n",
      "  \"([\\w%s\\s]+)\" % (u\"\".join(araby.TASHKEEL), ), re.UNICODE)\n"
     ]
    },
    {
     "ename": "KeyboardInterrupt",
     "evalue": "",
     "output_type": "error",
     "traceback": [
      "\u001b[1;31m---------------------------------------------------------------------------\u001b[0m",
      "\u001b[1;31mKeyboardInterrupt\u001b[0m                         Traceback (most recent call last)",
      "Cell \u001b[1;32mIn[43], line 1\u001b[0m\n\u001b[1;32m----> 1\u001b[0m df[\u001b[38;5;124m\"\u001b[39m\u001b[38;5;124mcleaned_seller_item_name\u001b[39m\u001b[38;5;124m\"\u001b[39m] \u001b[38;5;241m=\u001b[39m \u001b[43mdf\u001b[49m\u001b[43m[\u001b[49m\u001b[38;5;124;43m\"\u001b[39;49m\u001b[38;5;124;43mseller_item_name\u001b[39;49m\u001b[38;5;124;43m\"\u001b[39;49m\u001b[43m]\u001b[49m\u001b[38;5;241;43m.\u001b[39;49m\u001b[43mastype\u001b[49m\u001b[43m(\u001b[49m\u001b[38;5;28;43mstr\u001b[39;49m\u001b[43m)\u001b[49m\u001b[38;5;241;43m.\u001b[39;49m\u001b[43mapply\u001b[49m\u001b[43m(\u001b[49m\u001b[43mpreprocessing\u001b[49m\u001b[43m)\u001b[49m\n",
      "File \u001b[1;32mc:\\Python312\\Lib\\site-packages\\pandas\\core\\series.py:4924\u001b[0m, in \u001b[0;36mSeries.apply\u001b[1;34m(self, func, convert_dtype, args, by_row, **kwargs)\u001b[0m\n\u001b[0;32m   4789\u001b[0m \u001b[38;5;28;01mdef\u001b[39;00m \u001b[38;5;21mapply\u001b[39m(\n\u001b[0;32m   4790\u001b[0m     \u001b[38;5;28mself\u001b[39m,\n\u001b[0;32m   4791\u001b[0m     func: AggFuncType,\n\u001b[1;32m   (...)\u001b[0m\n\u001b[0;32m   4796\u001b[0m     \u001b[38;5;241m*\u001b[39m\u001b[38;5;241m*\u001b[39mkwargs,\n\u001b[0;32m   4797\u001b[0m ) \u001b[38;5;241m-\u001b[39m\u001b[38;5;241m>\u001b[39m DataFrame \u001b[38;5;241m|\u001b[39m Series:\n\u001b[0;32m   4798\u001b[0m \u001b[38;5;250m    \u001b[39m\u001b[38;5;124;03m\"\"\"\u001b[39;00m\n\u001b[0;32m   4799\u001b[0m \u001b[38;5;124;03m    Invoke function on values of Series.\u001b[39;00m\n\u001b[0;32m   4800\u001b[0m \n\u001b[1;32m   (...)\u001b[0m\n\u001b[0;32m   4915\u001b[0m \u001b[38;5;124;03m    dtype: float64\u001b[39;00m\n\u001b[0;32m   4916\u001b[0m \u001b[38;5;124;03m    \"\"\"\u001b[39;00m\n\u001b[0;32m   4917\u001b[0m     \u001b[38;5;28;01mreturn\u001b[39;00m \u001b[43mSeriesApply\u001b[49m\u001b[43m(\u001b[49m\n\u001b[0;32m   4918\u001b[0m \u001b[43m        \u001b[49m\u001b[38;5;28;43mself\u001b[39;49m\u001b[43m,\u001b[49m\n\u001b[0;32m   4919\u001b[0m \u001b[43m        \u001b[49m\u001b[43mfunc\u001b[49m\u001b[43m,\u001b[49m\n\u001b[0;32m   4920\u001b[0m \u001b[43m        \u001b[49m\u001b[43mconvert_dtype\u001b[49m\u001b[38;5;241;43m=\u001b[39;49m\u001b[43mconvert_dtype\u001b[49m\u001b[43m,\u001b[49m\n\u001b[0;32m   4921\u001b[0m \u001b[43m        \u001b[49m\u001b[43mby_row\u001b[49m\u001b[38;5;241;43m=\u001b[39;49m\u001b[43mby_row\u001b[49m\u001b[43m,\u001b[49m\n\u001b[0;32m   4922\u001b[0m \u001b[43m        \u001b[49m\u001b[43margs\u001b[49m\u001b[38;5;241;43m=\u001b[39;49m\u001b[43margs\u001b[49m\u001b[43m,\u001b[49m\n\u001b[0;32m   4923\u001b[0m \u001b[43m        \u001b[49m\u001b[43mkwargs\u001b[49m\u001b[38;5;241;43m=\u001b[39;49m\u001b[43mkwargs\u001b[49m\u001b[43m,\u001b[49m\n\u001b[1;32m-> 4924\u001b[0m \u001b[43m    \u001b[49m\u001b[43m)\u001b[49m\u001b[38;5;241;43m.\u001b[39;49m\u001b[43mapply\u001b[49m\u001b[43m(\u001b[49m\u001b[43m)\u001b[49m\n",
      "File \u001b[1;32mc:\\Python312\\Lib\\site-packages\\pandas\\core\\apply.py:1427\u001b[0m, in \u001b[0;36mSeriesApply.apply\u001b[1;34m(self)\u001b[0m\n\u001b[0;32m   1424\u001b[0m     \u001b[38;5;28;01mreturn\u001b[39;00m \u001b[38;5;28mself\u001b[39m\u001b[38;5;241m.\u001b[39mapply_compat()\n\u001b[0;32m   1426\u001b[0m \u001b[38;5;66;03m# self.func is Callable\u001b[39;00m\n\u001b[1;32m-> 1427\u001b[0m \u001b[38;5;28;01mreturn\u001b[39;00m \u001b[38;5;28;43mself\u001b[39;49m\u001b[38;5;241;43m.\u001b[39;49m\u001b[43mapply_standard\u001b[49m\u001b[43m(\u001b[49m\u001b[43m)\u001b[49m\n",
      "File \u001b[1;32mc:\\Python312\\Lib\\site-packages\\pandas\\core\\apply.py:1507\u001b[0m, in \u001b[0;36mSeriesApply.apply_standard\u001b[1;34m(self)\u001b[0m\n\u001b[0;32m   1501\u001b[0m \u001b[38;5;66;03m# row-wise access\u001b[39;00m\n\u001b[0;32m   1502\u001b[0m \u001b[38;5;66;03m# apply doesn't have a `na_action` keyword and for backward compat reasons\u001b[39;00m\n\u001b[0;32m   1503\u001b[0m \u001b[38;5;66;03m# we need to give `na_action=\"ignore\"` for categorical data.\u001b[39;00m\n\u001b[0;32m   1504\u001b[0m \u001b[38;5;66;03m# TODO: remove the `na_action=\"ignore\"` when that default has been changed in\u001b[39;00m\n\u001b[0;32m   1505\u001b[0m \u001b[38;5;66;03m#  Categorical (GH51645).\u001b[39;00m\n\u001b[0;32m   1506\u001b[0m action \u001b[38;5;241m=\u001b[39m \u001b[38;5;124m\"\u001b[39m\u001b[38;5;124mignore\u001b[39m\u001b[38;5;124m\"\u001b[39m \u001b[38;5;28;01mif\u001b[39;00m \u001b[38;5;28misinstance\u001b[39m(obj\u001b[38;5;241m.\u001b[39mdtype, CategoricalDtype) \u001b[38;5;28;01melse\u001b[39;00m \u001b[38;5;28;01mNone\u001b[39;00m\n\u001b[1;32m-> 1507\u001b[0m mapped \u001b[38;5;241m=\u001b[39m \u001b[43mobj\u001b[49m\u001b[38;5;241;43m.\u001b[39;49m\u001b[43m_map_values\u001b[49m\u001b[43m(\u001b[49m\n\u001b[0;32m   1508\u001b[0m \u001b[43m    \u001b[49m\u001b[43mmapper\u001b[49m\u001b[38;5;241;43m=\u001b[39;49m\u001b[43mcurried\u001b[49m\u001b[43m,\u001b[49m\u001b[43m \u001b[49m\u001b[43mna_action\u001b[49m\u001b[38;5;241;43m=\u001b[39;49m\u001b[43maction\u001b[49m\u001b[43m,\u001b[49m\u001b[43m \u001b[49m\u001b[43mconvert\u001b[49m\u001b[38;5;241;43m=\u001b[39;49m\u001b[38;5;28;43mself\u001b[39;49m\u001b[38;5;241;43m.\u001b[39;49m\u001b[43mconvert_dtype\u001b[49m\n\u001b[0;32m   1509\u001b[0m \u001b[43m\u001b[49m\u001b[43m)\u001b[49m\n\u001b[0;32m   1511\u001b[0m \u001b[38;5;28;01mif\u001b[39;00m \u001b[38;5;28mlen\u001b[39m(mapped) \u001b[38;5;129;01mand\u001b[39;00m \u001b[38;5;28misinstance\u001b[39m(mapped[\u001b[38;5;241m0\u001b[39m], ABCSeries):\n\u001b[0;32m   1512\u001b[0m     \u001b[38;5;66;03m# GH#43986 Need to do list(mapped) in order to get treated as nested\u001b[39;00m\n\u001b[0;32m   1513\u001b[0m     \u001b[38;5;66;03m#  See also GH#25959 regarding EA support\u001b[39;00m\n\u001b[0;32m   1514\u001b[0m     \u001b[38;5;28;01mreturn\u001b[39;00m obj\u001b[38;5;241m.\u001b[39m_constructor_expanddim(\u001b[38;5;28mlist\u001b[39m(mapped), index\u001b[38;5;241m=\u001b[39mobj\u001b[38;5;241m.\u001b[39mindex)\n",
      "File \u001b[1;32mc:\\Python312\\Lib\\site-packages\\pandas\\core\\base.py:921\u001b[0m, in \u001b[0;36mIndexOpsMixin._map_values\u001b[1;34m(self, mapper, na_action, convert)\u001b[0m\n\u001b[0;32m    918\u001b[0m \u001b[38;5;28;01mif\u001b[39;00m \u001b[38;5;28misinstance\u001b[39m(arr, ExtensionArray):\n\u001b[0;32m    919\u001b[0m     \u001b[38;5;28;01mreturn\u001b[39;00m arr\u001b[38;5;241m.\u001b[39mmap(mapper, na_action\u001b[38;5;241m=\u001b[39mna_action)\n\u001b[1;32m--> 921\u001b[0m \u001b[38;5;28;01mreturn\u001b[39;00m \u001b[43malgorithms\u001b[49m\u001b[38;5;241;43m.\u001b[39;49m\u001b[43mmap_array\u001b[49m\u001b[43m(\u001b[49m\u001b[43marr\u001b[49m\u001b[43m,\u001b[49m\u001b[43m \u001b[49m\u001b[43mmapper\u001b[49m\u001b[43m,\u001b[49m\u001b[43m \u001b[49m\u001b[43mna_action\u001b[49m\u001b[38;5;241;43m=\u001b[39;49m\u001b[43mna_action\u001b[49m\u001b[43m,\u001b[49m\u001b[43m \u001b[49m\u001b[43mconvert\u001b[49m\u001b[38;5;241;43m=\u001b[39;49m\u001b[43mconvert\u001b[49m\u001b[43m)\u001b[49m\n",
      "File \u001b[1;32mc:\\Python312\\Lib\\site-packages\\pandas\\core\\algorithms.py:1743\u001b[0m, in \u001b[0;36mmap_array\u001b[1;34m(arr, mapper, na_action, convert)\u001b[0m\n\u001b[0;32m   1741\u001b[0m values \u001b[38;5;241m=\u001b[39m arr\u001b[38;5;241m.\u001b[39mastype(\u001b[38;5;28mobject\u001b[39m, copy\u001b[38;5;241m=\u001b[39m\u001b[38;5;28;01mFalse\u001b[39;00m)\n\u001b[0;32m   1742\u001b[0m \u001b[38;5;28;01mif\u001b[39;00m na_action \u001b[38;5;129;01mis\u001b[39;00m \u001b[38;5;28;01mNone\u001b[39;00m:\n\u001b[1;32m-> 1743\u001b[0m     \u001b[38;5;28;01mreturn\u001b[39;00m \u001b[43mlib\u001b[49m\u001b[38;5;241;43m.\u001b[39;49m\u001b[43mmap_infer\u001b[49m\u001b[43m(\u001b[49m\u001b[43mvalues\u001b[49m\u001b[43m,\u001b[49m\u001b[43m \u001b[49m\u001b[43mmapper\u001b[49m\u001b[43m,\u001b[49m\u001b[43m \u001b[49m\u001b[43mconvert\u001b[49m\u001b[38;5;241;43m=\u001b[39;49m\u001b[43mconvert\u001b[49m\u001b[43m)\u001b[49m\n\u001b[0;32m   1744\u001b[0m \u001b[38;5;28;01melse\u001b[39;00m:\n\u001b[0;32m   1745\u001b[0m     \u001b[38;5;28;01mreturn\u001b[39;00m lib\u001b[38;5;241m.\u001b[39mmap_infer_mask(\n\u001b[0;32m   1746\u001b[0m         values, mapper, mask\u001b[38;5;241m=\u001b[39misna(values)\u001b[38;5;241m.\u001b[39mview(np\u001b[38;5;241m.\u001b[39muint8), convert\u001b[38;5;241m=\u001b[39mconvert\n\u001b[0;32m   1747\u001b[0m     )\n",
      "File \u001b[1;32mlib.pyx:2972\u001b[0m, in \u001b[0;36mpandas._libs.lib.map_infer\u001b[1;34m()\u001b[0m\n",
      "Cell \u001b[1;32mIn[42], line 51\u001b[0m, in \u001b[0;36mpreprocessing\u001b[1;34m(text)\u001b[0m\n\u001b[0;32m     48\u001b[0m tokens \u001b[38;5;241m=\u001b[39m text\u001b[38;5;241m.\u001b[39msplit()\n\u001b[0;32m     50\u001b[0m \u001b[38;5;66;03m# Lemmatize each token\u001b[39;00m\n\u001b[1;32m---> 51\u001b[0m lemmatized_tokens \u001b[38;5;241m=\u001b[39m [\u001b[43mlemmatizer\u001b[49m\u001b[38;5;241;43m.\u001b[39;49m\u001b[43mlemmatize\u001b[49m\u001b[43m(\u001b[49m\u001b[43mtoken\u001b[49m\u001b[43m)\u001b[49m \u001b[38;5;28;01mfor\u001b[39;00m token \u001b[38;5;129;01min\u001b[39;00m tokens]\n\u001b[0;32m     53\u001b[0m \u001b[38;5;66;03m# Join the lemmatized tokens back into a single string\u001b[39;00m\n\u001b[0;32m     54\u001b[0m lemmatized_text \u001b[38;5;241m=\u001b[39m \u001b[38;5;124m\"\u001b[39m\u001b[38;5;124m \u001b[39m\u001b[38;5;124m\"\u001b[39m\u001b[38;5;241m.\u001b[39mjoin(lemmatized_tokens)\n",
      "File \u001b[1;32mc:\\Python312\\Lib\\site-packages\\qalsadi\\lemmatizer.py:159\u001b[0m, in \u001b[0;36mLemmatizer.lemmatize\u001b[1;34m(self, word, return_pos, pos)\u001b[0m\n\u001b[0;32m    153\u001b[0m \u001b[38;5;28;01mdef\u001b[39;00m \u001b[38;5;21mlemmatize\u001b[39m(\u001b[38;5;28mself\u001b[39m, word, return_pos\u001b[38;5;241m=\u001b[39m\u001b[38;5;28;01mFalse\u001b[39;00m, pos\u001b[38;5;241m=\u001b[39m\u001b[38;5;124m\"\u001b[39m\u001b[38;5;124m\"\u001b[39m):\n\u001b[0;32m    154\u001b[0m \u001b[38;5;250m    \u001b[39m\u001b[38;5;124;03m\"\"\"\u001b[39;00m\n\u001b[0;32m    155\u001b[0m \u001b[38;5;124;03m    Lemmatize text\u001b[39;00m\n\u001b[0;32m    156\u001b[0m \u001b[38;5;124;03m    @param text: input text\u001b[39;00m\n\u001b[0;32m    157\u001b[0m \u001b[38;5;124;03m    @type text: unicode\u001b[39;00m\n\u001b[0;32m    158\u001b[0m \u001b[38;5;124;03m    \"\"\"\u001b[39;00m\n\u001b[1;32m--> 159\u001b[0m     lemmas \u001b[38;5;241m=\u001b[39m \u001b[38;5;28;43mself\u001b[39;49m\u001b[38;5;241;43m.\u001b[39;49m\u001b[43mlemmatize_text\u001b[49m\u001b[43m(\u001b[49m\u001b[43mword\u001b[49m\u001b[43m,\u001b[49m\u001b[43m \u001b[49m\u001b[43mreturn_pos\u001b[49m\u001b[38;5;241;43m=\u001b[39;49m\u001b[43mreturn_pos\u001b[49m\u001b[43m,\u001b[49m\u001b[43m \u001b[49m\u001b[43mpos\u001b[49m\u001b[38;5;241;43m=\u001b[39;49m\u001b[43mpos\u001b[49m\u001b[43m)\u001b[49m\n\u001b[0;32m    160\u001b[0m     \u001b[38;5;28;01mif\u001b[39;00m lemmas:\n\u001b[0;32m    161\u001b[0m         \u001b[38;5;28;01mreturn\u001b[39;00m lemmas[\u001b[38;5;241m0\u001b[39m]\n",
      "File \u001b[1;32mc:\\Python312\\Lib\\site-packages\\qalsadi\\lemmatizer.py:148\u001b[0m, in \u001b[0;36mLemmatizer.lemmatize_text\u001b[1;34m(self, text, return_pos, pos)\u001b[0m\n\u001b[0;32m    141\u001b[0m \u001b[38;5;28;01mdef\u001b[39;00m \u001b[38;5;21mlemmatize_text\u001b[39m(\u001b[38;5;28mself\u001b[39m, text, return_pos\u001b[38;5;241m=\u001b[39m\u001b[38;5;28;01mFalse\u001b[39;00m, pos\u001b[38;5;241m=\u001b[39m\u001b[38;5;124m\"\u001b[39m\u001b[38;5;124m\"\u001b[39m):\n\u001b[0;32m    142\u001b[0m \u001b[38;5;250m    \u001b[39m\u001b[38;5;124;03m\"\"\"\u001b[39;00m\n\u001b[0;32m    143\u001b[0m \u001b[38;5;124;03m    Lemmatize text\u001b[39;00m\n\u001b[0;32m    144\u001b[0m \u001b[38;5;124;03m    @param text: input text\u001b[39;00m\n\u001b[0;32m    145\u001b[0m \u001b[38;5;124;03m    @type text: unicode\u001b[39;00m\n\u001b[0;32m    146\u001b[0m \u001b[38;5;124;03m    \"\"\"\u001b[39;00m\n\u001b[1;32m--> 148\u001b[0m     result    \u001b[38;5;241m=\u001b[39m  \u001b[38;5;28;43mself\u001b[39;49m\u001b[38;5;241;43m.\u001b[39;49m\u001b[43manalexer\u001b[49m\u001b[38;5;241;43m.\u001b[39;49m\u001b[43mcheck_text\u001b[49m\u001b[43m(\u001b[49m\u001b[43mtext\u001b[49m\u001b[43m)\u001b[49m\n\u001b[0;32m    149\u001b[0m     stemnodelist  \u001b[38;5;241m=\u001b[39m  \u001b[38;5;28mself\u001b[39m\u001b[38;5;241m.\u001b[39manalyze(result)\n\u001b[0;32m    150\u001b[0m     lemmas \u001b[38;5;241m=\u001b[39m \u001b[38;5;28mself\u001b[39m\u001b[38;5;241m.\u001b[39mget_lemmas(stemnodelist, return_pos\u001b[38;5;241m=\u001b[39mreturn_pos, pos\u001b[38;5;241m=\u001b[39mpos)\n",
      "File \u001b[1;32mc:\\Python312\\Lib\\site-packages\\qalsadi\\analex.py:337\u001b[0m, in \u001b[0;36mAnalex.check_text\u001b[1;34m(self, text, mode)\u001b[0m\n\u001b[0;32m    334\u001b[0m \u001b[38;5;28mself\u001b[39m\u001b[38;5;241m.\u001b[39mcount_word(\n\u001b[0;32m    335\u001b[0m )  \u001b[38;5;66;03m# a ghost function to count words check function calls\u001b[39;00m\n\u001b[0;32m    336\u001b[0m guessedtag \u001b[38;5;241m=\u001b[39m list_guessed_tag[i]\n\u001b[1;32m--> 337\u001b[0m one_data_list \u001b[38;5;241m=\u001b[39m \u001b[38;5;28;43mself\u001b[39;49m\u001b[38;5;241;43m.\u001b[39;49m\u001b[43mcheck_word\u001b[49m\u001b[43m(\u001b[49m\u001b[43mword\u001b[49m\u001b[43m,\u001b[49m\u001b[43m \u001b[49m\u001b[43mguessedtag\u001b[49m\u001b[43m)\u001b[49m\n\u001b[0;32m    338\u001b[0m stemmed_one_data_list \u001b[38;5;241m=\u001b[39m [\n\u001b[0;32m    339\u001b[0m     stemmedword\u001b[38;5;241m.\u001b[39mStemmedWord(w) \u001b[38;5;28;01mfor\u001b[39;00m w \u001b[38;5;129;01min\u001b[39;00m one_data_list\n\u001b[0;32m    340\u001b[0m ]\n\u001b[0;32m    341\u001b[0m resulted_data\u001b[38;5;241m.\u001b[39mappend(stemmed_one_data_list)\n",
      "File \u001b[1;32mc:\\Python312\\Lib\\site-packages\\qalsadi\\analex.py:430\u001b[0m, in \u001b[0;36mAnalex.check_word\u001b[1;34m(self, word, guessedtag)\u001b[0m\n\u001b[0;32m    428\u001b[0m         \u001b[38;5;66;03m#if word is noun\u001b[39;00m\n\u001b[0;32m    429\u001b[0m         \u001b[38;5;28;01mif\u001b[39;00m \u001b[38;5;28mself\u001b[39m\u001b[38;5;241m.\u001b[39mlight_tag(word) \u001b[38;5;241m!=\u001b[39m \u001b[38;5;124m\"\u001b[39m\u001b[38;5;124mnonnoun\u001b[39m\u001b[38;5;124m\"\u001b[39m:                \n\u001b[1;32m--> 430\u001b[0m             resulted_data \u001b[38;5;241m+\u001b[39m\u001b[38;5;241m=\u001b[39m \u001b[38;5;28;43mself\u001b[39;49m\u001b[38;5;241;43m.\u001b[39;49m\u001b[43mcheck_word_as_noun\u001b[49m\u001b[43m(\u001b[49m\u001b[43mword_nm\u001b[49m\u001b[43m)\u001b[49m\n\u001b[0;32m    432\u001b[0m \u001b[38;5;28;01mif\u001b[39;00m \u001b[38;5;28mlen\u001b[39m(resulted_data) \u001b[38;5;241m==\u001b[39m \u001b[38;5;241m0\u001b[39m:\n\u001b[0;32m    433\u001b[0m     \u001b[38;5;66;03m#print (u\"1 _unknown %s-%s\"%(word, word_nm)).encode('utf8')\u001b[39;00m\n\u001b[0;32m    434\u001b[0m     \u001b[38;5;66;03m#check the word as unkonwn\u001b[39;00m\n\u001b[0;32m    435\u001b[0m     resulted_data \u001b[38;5;241m+\u001b[39m\u001b[38;5;241m=\u001b[39m \u001b[38;5;28mself\u001b[39m\u001b[38;5;241m.\u001b[39mcheck_word_as_unknown(word_nm)\n",
      "File \u001b[1;32mc:\\Python312\\Lib\\site-packages\\qalsadi\\analex.py:656\u001b[0m, in \u001b[0;36mAnalex.check_word_as_noun\u001b[1;34m(self, noun)\u001b[0m\n\u001b[0;32m    648\u001b[0m \u001b[38;5;28;01mdef\u001b[39;00m \u001b[38;5;21mcheck_word_as_noun\u001b[39m(\u001b[38;5;28mself\u001b[39m, noun):\n\u001b[0;32m    649\u001b[0m \u001b[38;5;250m    \u001b[39m\u001b[38;5;124;03m\"\"\"\u001b[39;00m\n\u001b[0;32m    650\u001b[0m \u001b[38;5;124;03m    Analyze the word as noun.\u001b[39;00m\n\u001b[0;32m    651\u001b[0m \u001b[38;5;124;03m    @param noun: the input word.\u001b[39;00m\n\u001b[1;32m   (...)\u001b[0m\n\u001b[0;32m    654\u001b[0m \u001b[38;5;124;03m    @rtype: list.\u001b[39;00m\n\u001b[0;32m    655\u001b[0m \u001b[38;5;124;03m    \"\"\"\u001b[39;00m\n\u001b[1;32m--> 656\u001b[0m     \u001b[38;5;28;01mreturn\u001b[39;00m \u001b[38;5;28;43mself\u001b[39;49m\u001b[38;5;241;43m.\u001b[39;49m\u001b[43mnounstemmer\u001b[49m\u001b[38;5;241;43m.\u001b[39;49m\u001b[43mstemming_noun\u001b[49m\u001b[43m(\u001b[49m\u001b[43mnoun\u001b[49m\u001b[43m)\u001b[49m\n",
      "File \u001b[1;32mc:\\Python312\\Lib\\site-packages\\qalsadi\\stem_noun.py:205\u001b[0m, in \u001b[0;36mNounStemmer.stemming_noun\u001b[1;34m(self, noun_in)\u001b[0m\n\u001b[0;32m    203\u001b[0m         word_seg_l3 \u001b[38;5;241m=\u001b[39m word_seg\u001b[38;5;241m.\u001b[39mcopy()\n\u001b[0;32m    204\u001b[0m         word_seg_l3[\u001b[38;5;124m\"\u001b[39m\u001b[38;5;124moriginal\u001b[39m\u001b[38;5;124m\"\u001b[39m] \u001b[38;5;241m=\u001b[39m noun_tuple[\u001b[38;5;124m'\u001b[39m\u001b[38;5;124mvocalized\u001b[39m\u001b[38;5;124m'\u001b[39m]\n\u001b[1;32m--> 205\u001b[0m         word_seg_l3[\u001b[38;5;124m\"\u001b[39m\u001b[38;5;124mnoun_tuple\u001b[39m\u001b[38;5;124m\"\u001b[39m] \u001b[38;5;241m=\u001b[39m \u001b[38;5;28;43mdict\u001b[39;49m\u001b[43m(\u001b[49m\u001b[43mnoun_tuple\u001b[49m\u001b[43m)\u001b[49m\n\u001b[0;32m    206\u001b[0m         tmp_list\u001b[38;5;241m.\u001b[39mappend(word_seg_l3)\n\u001b[0;32m    208\u001b[0m \u001b[38;5;28;01mif\u001b[39;00m debug: \u001b[38;5;28mprint\u001b[39m(\u001b[38;5;124m\"\u001b[39m\u001b[38;5;124mafter lookup dict\u001b[39m\u001b[38;5;124m\"\u001b[39m)\n",
      "\u001b[1;31mKeyboardInterrupt\u001b[0m: "
     ]
    }
   ],
   "source": [
    "df[\"cleaned_seller_item_name\"] = df[\"seller_item_name\"].astype(str).apply(preprocessing)"
   ]
  },
  {
   "cell_type": "code",
   "execution_count": null,
   "metadata": {},
   "outputs": [],
   "source": [
    "# Scale Price\n",
    "scaler = StandardScaler()\n",
    "df[\"scaled_price\"] = scaler.fit_transform(df[[\"price\"]])"
   ]
  },
  {
   "cell_type": "code",
   "execution_count": null,
   "metadata": {},
   "outputs": [
    {
     "data": {
      "text/plain": [
       "<Axes: ylabel='Frequency'>"
      ]
     },
     "execution_count": 29,
     "metadata": {},
     "output_type": "execute_result"
    },
    {
     "data": {
      "image/png": "[encoded data removed]",
      "text/plain": [
       "<Figure size 640x480 with 1 Axes>"
      ]
     },
     "metadata": {},
     "output_type": "display_data"
    }
   ],
   "source": [
    "# plot the distribution of price column\n",
    "df[\"price\"].plot.hist(bins=100)"
   ]
  },
  {
   "cell_type": "code",
   "execution_count": 31,
   "metadata": {},
   "outputs": [
    {
     "data": {
      "text/plain": [
       "<Axes: >"
      ]
     },
     "execution_count": 31,
     "metadata": {},
     "output_type": "execute_result"
    },
    {
     "data": {
      "image/png": "[encoded data removed]",
      "text/plain": [
       "<Figure size 640x480 with 1 Axes>"
      ]
     },
     "metadata": {},
     "output_type": "display_data"
    }
   ],
   "source": [
    "# Remove outliers\n",
    "df = df[df[\"price\"] < 1000]\n",
    "# plot boxplot to check for outliers\n",
    "df[\"price\"].plot.box()"
   ]
  },
  {
   "cell_type": "code",
   "execution_count": 33,
   "metadata": {},
   "outputs": [
    {
     "data": {
      "text/plain": [
       "33990"
      ]
     },
     "execution_count": 33,
     "metadata": {},
     "output_type": "execute_result"
    }
   ],
   "source": [
    "df.duplicated().sum()"
   ]
  },
  {
   "cell_type": "code",
   "execution_count": 34,
   "metadata": {},
   "outputs": [],
   "source": [
    "# drop duplicates\n",
    "df_2 = df.drop_duplicates(keep=\"first\")"
   ]
  },
  {
   "cell_type": "markdown",
   "metadata": {},
   "source": [
    "#### Splitting Data"
   ]
  },
  {
   "cell_type": "code",
   "execution_count": 38,
   "metadata": {},
   "outputs": [
    {
     "ename": "KeyError",
     "evalue": "\"['scaled_price'] not in index\"",
     "output_type": "error",
     "traceback": [
      "\u001b[1;31m---------------------------------------------------------------------------\u001b[0m",
      "\u001b[1;31mKeyError\u001b[0m                                  Traceback (most recent call last)",
      "Cell \u001b[1;32mIn[38], line 2\u001b[0m\n\u001b[0;32m      1\u001b[0m \u001b[38;5;66;03m# Feature and Target\u001b[39;00m\n\u001b[1;32m----> 2\u001b[0m X \u001b[38;5;241m=\u001b[39m \u001b[43mdf\u001b[49m\u001b[43m[\u001b[49m\u001b[43m[\u001b[49m\u001b[38;5;124;43m\"\u001b[39;49m\u001b[38;5;124;43mcleaned_seller_item_name\u001b[39;49m\u001b[38;5;124;43m\"\u001b[39;49m\u001b[43m,\u001b[49m\u001b[43m \u001b[49m\u001b[38;5;124;43m\"\u001b[39;49m\u001b[38;5;124;43mscaled_price\u001b[39;49m\u001b[38;5;124;43m\"\u001b[39;49m\u001b[43m]\u001b[49m\u001b[43m]\u001b[49m\n\u001b[0;32m      3\u001b[0m Y \u001b[38;5;241m=\u001b[39m df[\u001b[38;5;124m\"\u001b[39m\u001b[38;5;124msku\u001b[39m\u001b[38;5;124m\"\u001b[39m]\n\u001b[0;32m      5\u001b[0m \u001b[38;5;66;03m# Label Encoding for SKU\u001b[39;00m\n",
      "File \u001b[1;32mc:\\Python312\\Lib\\site-packages\\pandas\\core\\frame.py:4108\u001b[0m, in \u001b[0;36mDataFrame.__getitem__\u001b[1;34m(self, key)\u001b[0m\n\u001b[0;32m   4106\u001b[0m     \u001b[38;5;28;01mif\u001b[39;00m is_iterator(key):\n\u001b[0;32m   4107\u001b[0m         key \u001b[38;5;241m=\u001b[39m \u001b[38;5;28mlist\u001b[39m(key)\n\u001b[1;32m-> 4108\u001b[0m     indexer \u001b[38;5;241m=\u001b[39m \u001b[38;5;28;43mself\u001b[39;49m\u001b[38;5;241;43m.\u001b[39;49m\u001b[43mcolumns\u001b[49m\u001b[38;5;241;43m.\u001b[39;49m\u001b[43m_get_indexer_strict\u001b[49m\u001b[43m(\u001b[49m\u001b[43mkey\u001b[49m\u001b[43m,\u001b[49m\u001b[43m \u001b[49m\u001b[38;5;124;43m\"\u001b[39;49m\u001b[38;5;124;43mcolumns\u001b[39;49m\u001b[38;5;124;43m\"\u001b[39;49m\u001b[43m)\u001b[49m[\u001b[38;5;241m1\u001b[39m]\n\u001b[0;32m   4110\u001b[0m \u001b[38;5;66;03m# take() does not accept boolean indexers\u001b[39;00m\n\u001b[0;32m   4111\u001b[0m \u001b[38;5;28;01mif\u001b[39;00m \u001b[38;5;28mgetattr\u001b[39m(indexer, \u001b[38;5;124m\"\u001b[39m\u001b[38;5;124mdtype\u001b[39m\u001b[38;5;124m\"\u001b[39m, \u001b[38;5;28;01mNone\u001b[39;00m) \u001b[38;5;241m==\u001b[39m \u001b[38;5;28mbool\u001b[39m:\n",
      "File \u001b[1;32mc:\\Python312\\Lib\\site-packages\\pandas\\core\\indexes\\base.py:6200\u001b[0m, in \u001b[0;36mIndex._get_indexer_strict\u001b[1;34m(self, key, axis_name)\u001b[0m\n\u001b[0;32m   6197\u001b[0m \u001b[38;5;28;01melse\u001b[39;00m:\n\u001b[0;32m   6198\u001b[0m     keyarr, indexer, new_indexer \u001b[38;5;241m=\u001b[39m \u001b[38;5;28mself\u001b[39m\u001b[38;5;241m.\u001b[39m_reindex_non_unique(keyarr)\n\u001b[1;32m-> 6200\u001b[0m \u001b[38;5;28;43mself\u001b[39;49m\u001b[38;5;241;43m.\u001b[39;49m\u001b[43m_raise_if_missing\u001b[49m\u001b[43m(\u001b[49m\u001b[43mkeyarr\u001b[49m\u001b[43m,\u001b[49m\u001b[43m \u001b[49m\u001b[43mindexer\u001b[49m\u001b[43m,\u001b[49m\u001b[43m \u001b[49m\u001b[43maxis_name\u001b[49m\u001b[43m)\u001b[49m\n\u001b[0;32m   6202\u001b[0m keyarr \u001b[38;5;241m=\u001b[39m \u001b[38;5;28mself\u001b[39m\u001b[38;5;241m.\u001b[39mtake(indexer)\n\u001b[0;32m   6203\u001b[0m \u001b[38;5;28;01mif\u001b[39;00m \u001b[38;5;28misinstance\u001b[39m(key, Index):\n\u001b[0;32m   6204\u001b[0m     \u001b[38;5;66;03m# GH 42790 - Preserve name from an Index\u001b[39;00m\n",
      "File \u001b[1;32mc:\\Python312\\Lib\\site-packages\\pandas\\core\\indexes\\base.py:6252\u001b[0m, in \u001b[0;36mIndex._raise_if_missing\u001b[1;34m(self, key, indexer, axis_name)\u001b[0m\n\u001b[0;32m   6249\u001b[0m     \u001b[38;5;28;01mraise\u001b[39;00m \u001b[38;5;167;01mKeyError\u001b[39;00m(\u001b[38;5;124mf\u001b[39m\u001b[38;5;124m\"\u001b[39m\u001b[38;5;124mNone of [\u001b[39m\u001b[38;5;132;01m{\u001b[39;00mkey\u001b[38;5;132;01m}\u001b[39;00m\u001b[38;5;124m] are in the [\u001b[39m\u001b[38;5;132;01m{\u001b[39;00maxis_name\u001b[38;5;132;01m}\u001b[39;00m\u001b[38;5;124m]\u001b[39m\u001b[38;5;124m\"\u001b[39m)\n\u001b[0;32m   6251\u001b[0m not_found \u001b[38;5;241m=\u001b[39m \u001b[38;5;28mlist\u001b[39m(ensure_index(key)[missing_mask\u001b[38;5;241m.\u001b[39mnonzero()[\u001b[38;5;241m0\u001b[39m]]\u001b[38;5;241m.\u001b[39munique())\n\u001b[1;32m-> 6252\u001b[0m \u001b[38;5;28;01mraise\u001b[39;00m \u001b[38;5;167;01mKeyError\u001b[39;00m(\u001b[38;5;124mf\u001b[39m\u001b[38;5;124m\"\u001b[39m\u001b[38;5;132;01m{\u001b[39;00mnot_found\u001b[38;5;132;01m}\u001b[39;00m\u001b[38;5;124m not in index\u001b[39m\u001b[38;5;124m\"\u001b[39m)\n",
      "\u001b[1;31mKeyError\u001b[0m: \"['scaled_price'] not in index\""
     ]
    }
   ],
   "source": [
    "# Feature and Target\n",
    "X = df[[\"cleaned_seller_item_name\", \"scaled_price\"]]\n",
    "Y = df[\"sku\"]\n",
    "\n",
    "# Label Encoding for SKU\n",
    "label_encoder = LabelEncoder()\n",
    "df[\"encoded_sku\"] = label_encoder.fit_transform(Y)"
   ]
  },
  {
   "cell_type": "markdown",
   "metadata": {},
   "source": [
    "### Model Selection"
   ]
  },
  {
   "cell_type": "code",
   "execution_count": null,
   "metadata": {},
   "outputs": [
    {
     "name": "stderr",
     "output_type": "stream",
     "text": [
      "C:\\Users\\hassa\\AppData\\Local\\Programs\\Python\\Python312\\Lib\\site-packages\\keras\\src\\layers\\core\\embedding.py:90: UserWarning: Argument `input_length` is deprecated. Just remove it.\n",
      "  warnings.warn(\n"
     ]
    },
    {
     "name": "stdout",
     "output_type": "stream",
     "text": [
      "Epoch 1/100\n",
      "\u001b[1m2090/2090\u001b[0m \u001b[32m━━━━━━━━━━━━━━━━━━━━\u001b[0m\u001b[37m\u001b[0m \u001b[1m67s\u001b[0m 29ms/step - accuracy: 0.1191 - loss: 4.7483 - val_accuracy: 0.8717 - val_loss: 1.0730\n",
      "Epoch 2/100\n",
      "\u001b[1m2090/2090\u001b[0m \u001b[32m━━━━━━━━━━━━━━━━━━━━\u001b[0m\u001b[37m\u001b[0m \u001b[1m45s\u001b[0m 21ms/step - accuracy: 0.8630 - loss: 0.9335 - val_accuracy: 0.9743 - val_loss: 0.2818\n",
      "Epoch 3/100\n",
      "\u001b[1m2090/2090\u001b[0m \u001b[32m━━━━━━━━━━━━━━━━━━━━\u001b[0m\u001b[37m\u001b[0m \u001b[1m46s\u001b[0m 22ms/step - accuracy: 0.9615 - loss: 0.3295 - val_accuracy: 0.9793 - val_loss: 0.1942\n",
      "Epoch 4/100\n",
      "\u001b[1m2090/2090\u001b[0m \u001b[32m━━━━━━━━━━━━━━━━━━━━\u001b[0m\u001b[37m\u001b[0m \u001b[1m46s\u001b[0m 22ms/step - accuracy: 0.9747 - loss: 0.2020 - val_accuracy: 0.9793 - val_loss: 0.1604\n",
      "Epoch 5/100\n",
      "\u001b[1m2090/2090\u001b[0m \u001b[32m━━━━━━━━━━━━━━━━━━━━\u001b[0m\u001b[37m\u001b[0m \u001b[1m47s\u001b[0m 22ms/step - accuracy: 0.9785 - loss: 0.1450 - val_accuracy: 0.9800 - val_loss: 0.1511\n",
      "Epoch 6/100\n",
      "\u001b[1m2090/2090\u001b[0m \u001b[32m━━━━━━━━━━━━━━━━━━━━\u001b[0m\u001b[37m\u001b[0m \u001b[1m46s\u001b[0m 22ms/step - accuracy: 0.9793 - loss: 0.1231 - val_accuracy: 0.9807 - val_loss: 0.1459\n",
      "Epoch 7/100\n",
      "\u001b[1m2090/2090\u001b[0m \u001b[32m━━━━━━━━━━━━━━━━━━━━\u001b[0m\u001b[37m\u001b[0m \u001b[1m51s\u001b[0m 24ms/step - accuracy: 0.9817 - loss: 0.1055 - val_accuracy: 0.9804 - val_loss: 0.1487\n",
      "Epoch 8/100\n",
      "\u001b[1m2090/2090\u001b[0m \u001b[32m━━━━━━━━━━━━━━━━━━━━\u001b[0m\u001b[37m\u001b[0m \u001b[1m45s\u001b[0m 22ms/step - accuracy: 0.9839 - loss: 0.0888 - val_accuracy: 0.9812 - val_loss: 0.1468\n",
      "Epoch 9/100\n",
      "\u001b[1m2090/2090\u001b[0m \u001b[32m━━━━━━━━━━━━━━━━━━━━\u001b[0m\u001b[37m\u001b[0m \u001b[1m45s\u001b[0m 22ms/step - accuracy: 0.9836 - loss: 0.0877 - val_accuracy: 0.9817 - val_loss: 0.1516\n",
      "Epoch 10/100\n",
      "\u001b[1m2090/2090\u001b[0m \u001b[32m━━━━━━━━━━━━━━━━━━━━\u001b[0m\u001b[37m\u001b[0m \u001b[1m49s\u001b[0m 24ms/step - accuracy: 0.9835 - loss: 0.0860 - val_accuracy: 0.9816 - val_loss: 0.1497\n",
      "Epoch 11/100\n",
      "\u001b[1m2090/2090\u001b[0m \u001b[32m━━━━━━━━━━━━━━━━━━━━\u001b[0m\u001b[37m\u001b[0m \u001b[1m45s\u001b[0m 22ms/step - accuracy: 0.9856 - loss: 0.0764 - val_accuracy: 0.9819 - val_loss: 0.1478\n",
      "\u001b[1m523/523\u001b[0m \u001b[32m━━━━━━━━━━━━━━━━━━━━\u001b[0m\u001b[37m\u001b[0m \u001b[1m2s\u001b[0m 4ms/step - accuracy: 0.9796 - loss: 0.1559\n",
      "RNN Model Accuracy: 0.9807\n"
     ]
    }
   ],
   "source": [
    "# Tokenization for RNN\n",
    "num_words = 5000\n",
    "tokenizer = Tokenizer(num_words=num_words, oov_token=\"<OOV>\")\n",
    "tokenizer.fit_on_texts(X[\"cleaned_seller_item_name\"])\n",
    "sequences = tokenizer.texts_to_sequences(X[\"cleaned_seller_item_name\"])\n",
    "\n",
    "# Padding\n",
    "max_length = max(len(seq) for seq in sequences)\n",
    "x_padded = pad_sequences(sequences, maxlen=max_length, padding=\"post\", truncating=\"post\")\n",
    "\n",
    "# Train-Test Split for RNN\n",
    "X_train, X_test, y_train, y_test = train_test_split(x_padded, df[\"encoded_sku\"], test_size=0.2, random_state=42, stratify=df[\"encoded_sku\"], shuffle=True)\n",
    "\n",
    "# Build Improved RNN Model\n",
    "rnn_model = Sequential([\n",
    "    Embedding(input_dim=num_words, output_dim=256, input_length=max_length),\n",
    "    Bidirectional(LSTM(64, return_sequences=True)),\n",
    "    Dropout(0.2),\n",
    "    Bidirectional(GRU(32)),\n",
    "    Dropout(0.2),\n",
    "    Dense(32, activation=\"relu\"),\n",
    "    Dense(len(label_encoder.classes_), activation=\"softmax\")\n",
    "])\n",
    "\n",
    "rnn_model.compile(loss=\"sparse_categorical_crossentropy\", optimizer=Adam(learning_rate=0.0005), metrics=[\"accuracy\"])\n",
    "\n",
    "# Early Stopping\n",
    "early_stopping = EarlyStopping(monitor=\"val_loss\", patience=5, restore_best_weights=True)\n",
    "\n",
    "# Train RNN Model\n",
    "rnn_model.fit(X_train, y_train, epochs=100, batch_size=32, validation_data=(X_test, y_test), callbacks=[early_stopping])\n",
    "\n",
    "# Evaluate RNN Model\n",
    "loss, accuracy = rnn_model.evaluate(X_test, y_test)\n",
    "print(f\"RNN Model Accuracy: {accuracy:.4f}\")"
   ]
  },
  {
   "cell_type": "code",
   "execution_count": 4,
   "metadata": {},
   "outputs": [],
   "source": [
    "df[\"cleaned_seller_item_name\"] = df[\"seller_item_name\"].astype(str).apply(preprocessing)\n",
    "scaler = StandardScaler()\n",
    "df[\"scaled_price\"] = scaler.fit_transform(df[[\"price\"]])\n",
    "X = df[[\"cleaned_seller_item_name\", \"scaled_price\"]]\n",
    "Y = df[\"sku\"]\n",
    "\n",
    "\n"
   ]
  },
  {
   "cell_type": "code",
   "execution_count": null,
   "metadata": {},
   "outputs": [
    {
     "data": {
      "text/plain": [
       "'شوجارلو بلس 1000 50 مج 30 كبسول الاسراء'"
      ]
     },
     "execution_count": 33,
     "metadata": {},
     "output_type": "execute_result"
    }
   ],
   "source": [
    "# text  = preprocessing(\"تورسيرتيك5مجم\")\n",
    "# text  = preprocessing(\"تورسيرتيك 5مجم\")\n",
    "# text  = preprocessing(\"SPANIELA MR35MG30TAB\")\n",
    "# text  = preprocessing(\"شوجارلو بلس 1000/50مج30قرص س ج/الاسراء\")\n",
    "# text"
   ]
  },
  {
   "cell_type": "markdown",
   "metadata": {},
   "source": [
    "# Build SymSpell Dictionary"
   ]
  },
  {
   "cell_type": "code",
   "execution_count": 13,
   "metadata": {},
   "outputs": [
    {
     "ename": "ValueError",
     "evalue": "Column 'marketplace_product_name_ar' not found in dataset!",
     "output_type": "error",
     "traceback": [
      "\u001b[1;31m---------------------------------------------------------------------------\u001b[0m",
      "\u001b[1;31mValueError\u001b[0m                                Traceback (most recent call last)",
      "Cell \u001b[1;32mIn[45], line 85\u001b[0m\n\u001b[0;32m     82\u001b[0m \u001b[38;5;28;01mif\u001b[39;00m \u001b[38;5;129;01mnot\u001b[39;00m os\u001b[38;5;241m.\u001b[39mpath\u001b[38;5;241m.\u001b[39mexists(dataset_filename):\n\u001b[0;32m     83\u001b[0m     \u001b[38;5;28;01mraise\u001b[39;00m \u001b[38;5;167;01mFileNotFoundError\u001b[39;00m(\u001b[38;5;124mf\u001b[39m\u001b[38;5;124m\"\u001b[39m\u001b[38;5;124mFile \u001b[39m\u001b[38;5;124m'\u001b[39m\u001b[38;5;132;01m{\u001b[39;00mdataset_filename\u001b[38;5;132;01m}\u001b[39;00m\u001b[38;5;124m'\u001b[39m\u001b[38;5;124m not found! Check the filename and path.\u001b[39m\u001b[38;5;124m\"\u001b[39m)\n\u001b[1;32m---> 85\u001b[0m dict_file \u001b[38;5;241m=\u001b[39m \u001b[43mbuild_dictionary_from_dataset\u001b[49m\u001b[43m(\u001b[49m\u001b[43mdataset_filename\u001b[49m\u001b[43m)\u001b[49m\n\u001b[0;32m     86\u001b[0m sym_spell \u001b[38;5;241m=\u001b[39m initialize_symspell(dict_file)\n\u001b[0;32m     88\u001b[0m \u001b[38;5;66;03m# Example: Input Medicine Name and Correct It\u001b[39;00m\n",
      "Cell \u001b[1;32mIn[45], line 50\u001b[0m, in \u001b[0;36mbuild_dictionary_from_dataset\u001b[1;34m(filename)\u001b[0m\n\u001b[0;32m     48\u001b[0m \u001b[38;5;66;03m# Ensure column exists\u001b[39;00m\n\u001b[0;32m     49\u001b[0m \u001b[38;5;28;01mif\u001b[39;00m \u001b[38;5;124m\"\u001b[39m\u001b[38;5;124mmarketplace_product_name_ar\u001b[39m\u001b[38;5;124m\"\u001b[39m \u001b[38;5;129;01mnot\u001b[39;00m \u001b[38;5;129;01min\u001b[39;00m df\u001b[38;5;241m.\u001b[39mcolumns:\n\u001b[1;32m---> 50\u001b[0m     \u001b[38;5;28;01mraise\u001b[39;00m \u001b[38;5;167;01mValueError\u001b[39;00m(\u001b[38;5;124m\"\u001b[39m\u001b[38;5;124mColumn \u001b[39m\u001b[38;5;124m'\u001b[39m\u001b[38;5;124mmarketplace_product_name_ar\u001b[39m\u001b[38;5;124m'\u001b[39m\u001b[38;5;124m not found in dataset!\u001b[39m\u001b[38;5;124m\"\u001b[39m)\n\u001b[0;32m     52\u001b[0m \u001b[38;5;28;01mfor\u001b[39;00m product \u001b[38;5;129;01min\u001b[39;00m df[\u001b[38;5;124m\"\u001b[39m\u001b[38;5;124mmarketplace_product_name_ar\u001b[39m\u001b[38;5;124m\"\u001b[39m]\u001b[38;5;241m.\u001b[39mdropna():\n\u001b[0;32m     53\u001b[0m     normalized_product \u001b[38;5;241m=\u001b[39m \u001b[38;5;28mstr\u001b[39m(product)\u001b[38;5;241m.\u001b[39mstrip()\n",
      "\u001b[1;31mValueError\u001b[0m: Column 'marketplace_product_name_ar' not found in dataset!"
     ]
    }
   ],
   "source": [
    "# from symspellpy import SymSpell\n",
    "# import pandas as pd\n",
    "\n",
    "# # Load DataFrame\n",
    "# df = pd.DataFrame({\n",
    "#     \"marketplace_product_name_ar\": [\"منتج\", \"منتج\", \"منتج جديد\", \"منج جديد\"],  # Example Data\n",
    "#     \"cleaned_seller_item_name\": [\"منتج جد\", \"منتج جدي\", \"منتج جديي\", \"منج جد\"]\n",
    "# })\n",
    "\n",
    "# # 1. Create Word Frequency Dictionary\n",
    "# word_freq_dict = {}\n",
    "# for product in df[\"marketplace_product_name_ar\"].dropna():\n",
    "#     normalized_product = str(product).strip()\n",
    "#     word_freq_dict[normalized_product] = word_freq_dict.get(normalized_product, 0) + 1\n",
    "\n",
    "# # Save Dictionary (Ensure tab separation)\n",
    "# dict_file = \"product_dictionary.txt\"\n",
    "# with open(dict_file, \"w\", encoding=\"utf-8\") as f:\n",
    "#     for word, freq in word_freq_dict.items():\n",
    "#         f.write(f\"{word}\\t{freq}\\n\")  # Use TAB instead of SPACE\n",
    "\n",
    "# # 2. Initialize SymSpell\n",
    "# sym_spell = SymSpell(max_dictionary_edit_distance=2, prefix_length=7)\n",
    "\n",
    "# # Load Dictionary and Check if Loaded Correctly\n",
    "# if not sym_spell.load_dictionary(dict_file, term_index=0, count_index=1, encoding=\"utf-8\"):\n",
    "#     print(\"Dictionary loading failed!\")\n",
    "\n",
    "# # 3. Apply SymSpell Correction\n",
    "# def correct_text(text):\n",
    "#     suggestions = sym_spell.lookup(text, verbosity=0, max_edit_distance=2)  # Use verbosity=0 for best match\n",
    "#     return suggestions[0].term if suggestions else text\n",
    "\n",
    "# df[\"corrected_seller_item_name\"] = df[\"cleaned_seller_item_name\"].apply(correct_text)\n",
    "\n",
    "# # Show Results\n",
    "# print(df[[\"cleaned_seller_item_name\", \"corrected_seller_item_name\"]])\n",
    "\n",
    "\n",
    "\n"
   ]
  },
  {
   "cell_type": "code",
   "execution_count": null,
   "metadata": {},
   "outputs": [
    {
     "name": "stdout",
     "output_type": "stream",
     "text": [
      "['sku', 'marketplace_product_name_ar', 'seller_item_name', 'price']\n"
     ]
    }
   ],
   "source": [
    "# import pandas as pd\n",
    "\n",
    "# dataset_filename = \"Product Matching Dataset.xlsx\"  # Your file name\n",
    "\n",
    "# df = pd.read_excel(dataset_filename, sheet_name=\"Dataset\")  # Load Excel file\n",
    "# print(df.columns.tolist())  # Print all column names\n"
   ]
  },
  {
   "cell_type": "markdown",
   "metadata": {},
   "source": [
    "# Train Models"
   ]
  },
  {
   "cell_type": "code",
   "execution_count": null,
   "metadata": {},
   "outputs": [],
   "source": []
  },
  {
   "cell_type": "code",
   "execution_count": 37,
   "metadata": {},
   "outputs": [
    {
     "ename": "NameError",
     "evalue": "name 'X' is not defined",
     "output_type": "error",
     "traceback": [
      "\u001b[1;31m---------------------------------------------------------------------------\u001b[0m",
      "\u001b[1;31mNameError\u001b[0m                                 Traceback (most recent call last)",
      "Cell \u001b[1;32mIn[37], line 1\u001b[0m\n\u001b[1;32m----> 1\u001b[0m X_train, X_test, y_train, y_test \u001b[38;5;241m=\u001b[39m train_test_split(\u001b[43mX\u001b[49m, df[\u001b[38;5;124m'\u001b[39m\u001b[38;5;124mencoded_sku\u001b[39m\u001b[38;5;124m'\u001b[39m], test_size\u001b[38;5;241m=\u001b[39m\u001b[38;5;241m0.2\u001b[39m, random_state\u001b[38;5;241m=\u001b[39m\u001b[38;5;241m42\u001b[39m, stratify\u001b[38;5;241m=\u001b[39mdf[\u001b[38;5;124m'\u001b[39m\u001b[38;5;124mencoded_sku\u001b[39m\u001b[38;5;124m'\u001b[39m], shuffle\u001b[38;5;241m=\u001b[39m\u001b[38;5;28;01mTrue\u001b[39;00m)\n\u001b[0;32m      3\u001b[0m vectorizer \u001b[38;5;241m=\u001b[39m TfidfVectorizer(max_features\u001b[38;5;241m=\u001b[39m\u001b[38;5;241m500\u001b[39m)\n\u001b[0;32m      4\u001b[0m X_train_tfidf \u001b[38;5;241m=\u001b[39m vectorizer\u001b[38;5;241m.\u001b[39mfit_transform(X_train)\n",
      "\u001b[1;31mNameError\u001b[0m: name 'X' is not defined"
     ]
    }
   ],
   "source": [
    "X_train, X_test, y_train, y_test = train_test_split(X, df['encoded_sku'], test_size=0.2, random_state=42, stratify=df['encoded_sku'], shuffle=True)\n",
    "\n",
    "vectorizer = TfidfVectorizer(max_features=500)\n",
    "X_train_tfidf = vectorizer.fit_transform(X_train)\n",
    "X_test_tfidf = vectorizer.transform(X_test)\n",
    "\n",
    "# Train Logistic Regression Model\n",
    "logistic_model = LogisticRegression()\n",
    "logistic_model.fit(X_train_tfidf, y_train)\n",
    "\n",
    "y_pred = logistic_model.predict(X_test_tfidf)\n",
    "accuracy = accuracy_score(y_test, y_pred)\n",
    "print(f\"Logistic Regression Model Accuracy: {accuracy:.4f}\")"
   ]
  },
  {
   "cell_type": "code",
   "execution_count": null,
   "metadata": {},
   "outputs": [
    {
     "name": "stdout",
     "output_type": "stream",
     "text": [
      "Logistic Regression Model Accuracy: 0.8648\n"
     ]
    },
    {
     "name": "stderr",
     "output_type": "stream",
     "text": [
      "C:\\Users\\hassa\\AppData\\Local\\Programs\\Python\\Python312\\Lib\\site-packages\\keras\\src\\layers\\core\\embedding.py:90: UserWarning: Argument `input_length` is deprecated. Just remove it.\n",
      "  warnings.warn(\n"
     ]
    },
    {
     "name": "stdout",
     "output_type": "stream",
     "text": [
      "Epoch 1/100\n",
      "\u001b[1m1828/1828\u001b[0m \u001b[32m━━━━━━━━━━━━━━━━━━━━\u001b[0m\u001b[37m\u001b[0m \u001b[1m44s\u001b[0m 21ms/step - accuracy: 0.1221 - loss: 4.7405 - val_accuracy: 0.8558 - val_loss: 1.0872\n",
      "Epoch 2/100\n",
      "\u001b[1m1828/1828\u001b[0m \u001b[32m━━━━━━━━━━━━━━━━━━━━\u001b[0m\u001b[37m\u001b[0m \u001b[1m39s\u001b[0m 22ms/step - accuracy: 0.8361 - loss: 0.9156 - val_accuracy: 0.9420 - val_loss: 0.2969\n",
      "Epoch 3/100\n",
      "\u001b[1m1828/1828\u001b[0m \u001b[32m━━━━━━━━━━━━━━━━━━━━\u001b[0m\u001b[37m\u001b[0m \u001b[1m39s\u001b[0m 22ms/step - accuracy: 0.9329 - loss: 0.3006 - val_accuracy: 0.9500 - val_loss: 0.2200\n",
      "Epoch 4/100\n",
      "\u001b[1m1828/1828\u001b[0m \u001b[32m━━━━━━━━━━━━━━━━━━━━\u001b[0m\u001b[37m\u001b[0m \u001b[1m39s\u001b[0m 21ms/step - accuracy: 0.9475 - loss: 0.1839 - val_accuracy: 0.9501 - val_loss: 0.2161\n",
      "Epoch 5/100\n",
      "\u001b[1m1828/1828\u001b[0m \u001b[32m━━━━━━━━━━━━━━━━━━━━\u001b[0m\u001b[37m\u001b[0m \u001b[1m39s\u001b[0m 21ms/step - accuracy: 0.9503 - loss: 0.1493 - val_accuracy: 0.9528 - val_loss: 0.2165\n",
      "Epoch 6/100\n",
      "\u001b[1m1828/1828\u001b[0m \u001b[32m━━━━━━━━━━━━━━━━━━━━\u001b[0m\u001b[37m\u001b[0m \u001b[1m39s\u001b[0m 22ms/step - accuracy: 0.9564 - loss: 0.1233 - val_accuracy: 0.9559 - val_loss: 0.2106\n",
      "Epoch 7/100\n",
      "\u001b[1m1828/1828\u001b[0m \u001b[32m━━━━━━━━━━━━━━━━━━━━\u001b[0m\u001b[37m\u001b[0m \u001b[1m39s\u001b[0m 22ms/step - accuracy: 0.9583 - loss: 0.1090 - val_accuracy: 0.9558 - val_loss: 0.2159\n",
      "Epoch 8/100\n",
      "\u001b[1m1828/1828\u001b[0m \u001b[32m━━━━━━━━━━━━━━━━━━━━\u001b[0m\u001b[37m\u001b[0m \u001b[1m39s\u001b[0m 21ms/step - accuracy: 0.9610 - loss: 0.1031 - val_accuracy: 0.9545 - val_loss: 0.2266\n",
      "Epoch 9/100\n",
      "\u001b[1m1828/1828\u001b[0m \u001b[32m━━━━━━━━━━━━━━━━━━━━\u001b[0m\u001b[37m\u001b[0m \u001b[1m39s\u001b[0m 21ms/step - accuracy: 0.9608 - loss: 0.0951 - val_accuracy: 0.9566 - val_loss: 0.2254\n",
      "Epoch 10/100\n",
      "\u001b[1m1828/1828\u001b[0m \u001b[32m━━━━━━━━━━━━━━━━━━━━\u001b[0m\u001b[37m\u001b[0m \u001b[1m40s\u001b[0m 22ms/step - accuracy: 0.9618 - loss: 0.0940 - val_accuracy: 0.9562 - val_loss: 0.2317\n",
      "Epoch 11/100\n",
      "\u001b[1m1828/1828\u001b[0m \u001b[32m━━━━━━━━━━━━━━━━━━━━\u001b[0m\u001b[37m\u001b[0m \u001b[1m50s\u001b[0m 28ms/step - accuracy: 0.9615 - loss: 0.0912 - val_accuracy: 0.9562 - val_loss: 0.2347\n",
      "\u001b[1m784/784\u001b[0m \u001b[32m━━━━━━━━━━━━━━━━━━━━\u001b[0m\u001b[37m\u001b[0m \u001b[1m3s\u001b[0m 3ms/step - accuracy: 0.9566 - loss: 0.2083\n",
      "RNN Model Accuracy: 0.9559\n"
     ]
    }
   ],
   "source": [
    "# label_encoder = LabelEncoder()\n",
    "# df[\"encoded_sku\"] = label_encoder.fit_transform(df[\"sku\"])\n",
    "\n",
    "# # Tokenization for RNN\n",
    "# num_words = 5000\n",
    "# tokenizer = Tokenizer(num_words=num_words, oov_token=\"<OOV>\")\n",
    "# tokenizer.fit_on_texts(df[\"cleaned_seller_item_name\"])\n",
    "# sequences = tokenizer.texts_to_sequences(df[\"cleaned_seller_item_name\"])\n",
    "\n",
    "# # Padding\n",
    "# max_length = max(len(seq) for seq in sequences)\n",
    "# x_padded = pad_sequences(sequences, maxlen=max_length, padding=\"post\", truncating=\"post\")\n",
    "\n",
    "# # Train-Test Split for RNN\n",
    "# X_train, X_test, y_train, y_test = train_test_split(x_padded, df[\"encoded_sku\"], test_size=0.3, random_state=42)\n",
    "\n",
    "# Split dataset\n",
    "X_train, X_test, y_train, y_test = train_test_split(x_padded, y_encoded, test_size=0.3, random_state=42)\n",
    "\n",
    "# rnn_model.compile(loss=\"sparse_categorical_crossentropy\", optimizer=\"adam\", metrics=[\"accuracy\"])\n",
    "# # Early Stopping\n",
    "# early_stopping = EarlyStopping(monitor=\"val_loss\", patience=5, restore_best_weights=True)\n",
    "\n",
    "# # Train RNN Model\n",
    "# rnn_model.fit(X_train, y_train, epochs=100, batch_size=32, validation_data=(X_test, y_test), callbacks=[early_stopping])\n",
    "\n",
    "# loss, accuracy = rnn_model.evaluate(X_test, y_test)\n",
    "# print(f\"RNN Model Accuracy: {accuracy:.4f}\")\n",
    "\n",
    "\n",
    "# Label Encoding for SKU\n",
    "label_encoder = LabelEncoder()\n",
    "df[\"encoded_sku\"] = label_encoder.fit_transform(df[\"sku\"])\n",
    "\n",
    "# # Tokenization for RNN\n",
    "# num_words = 5000\n",
    "# tokenizer = Tokenizer(num_words=num_words, oov_token=\"<OOV>\")\n",
    "# tokenizer.fit_on_texts(X)\n",
    "# sequences = tokenizer.texts_to_sequences(X)\n",
    "\n",
    "# # Padding\n",
    "# max_length = max(len(seq) for seq in sequences)\n",
    "# x_padded = pad_sequences(sequences, maxlen=max_length, padding=\"post\", truncating=\"post\")\n",
    "\n",
    "# Train-Test Split for RNN\n",
    "X_train, X_test, y_train, y_test = train_test_split(x_padded, df[\"encoded_sku\"], test_size=0.3, random_state=42)\n",
    "\n",
    "# Build Improved RNN Model\n",
    "rnn_model = Sequential([\n",
    "    Embedding(input_dim=num_words, output_dim=256, input_length=max_length),\n",
    "    Bidirectional(LSTM(64, return_sequences=True)),\n",
    "    Dropout(0.2),\n",
    "    Bidirectional(GRU(32)),\n",
    "    Dropout(0.2),\n",
    "    Dense(32, activation=\"relu\"),\n",
    "    Dense(len(label_encoder.classes_), activation=\"softmax\")\n",
    "])\n",
    "\n",
    "# rnn_model.compile(loss=\"sparse_categorical_crossentropy\", optimizer=Adam(learning_rate=0.0005), metrics=[\"accuracy\"])\n",
    "\n",
    "# # Early Stopping\n",
    "# early_stopping = EarlyStopping(monitor=\"val_loss\", patience=5, restore_best_weights=True)\n",
    "\n",
    "# # Train RNN Model\n",
    "# rnn_model.fit(X_train, y_train, epochs=100, batch_size=32, validation_data=(X_test, y_test), callbacks=[early_stopping])\n",
    "\n",
    "# loss, accuracy = rnn_model.evaluate(X_test, y_test)\n",
    "# print(f\"RNN Model Accuracy: {accuracy:.4f}\")\n"
   ]
  },
  {
   "cell_type": "code",
   "execution_count": null,
   "metadata": {},
   "outputs": [
    {
     "name": "stdout",
     "output_type": "stream",
     "text": [
      "\u001b[1m1/1\u001b[0m \u001b[32m━━━━━━━━━━━━━━━━━━━━\u001b[0m\u001b[37m\u001b[0m \u001b[1m0s\u001b[0m 24ms/step\n",
      "10\n",
      "\u001b[1m1/1\u001b[0m \u001b[32m━━━━━━━━━━━━━━━━━━━━\u001b[0m\u001b[37m\u001b[0m \u001b[1m0s\u001b[0m 26ms/step\n",
      "1469\n",
      "\u001b[1m1/1\u001b[0m \u001b[32m━━━━━━━━━━━━━━━━━━━━\u001b[0m\u001b[37m\u001b[0m \u001b[1m0s\u001b[0m 27ms/step\n",
      "116\n"
     ]
    }
   ],
   "source": [
    "def predict_sku(medicine_name, threshold=0.5):\n",
    "    # Preprocess the input name\n",
    "    cleaned_text = preprocessing(medicine_name)\n",
    "    \n",
    "    # Convert to sequence\n",
    "    seq = tokenizer.texts_to_sequences([cleaned_text])\n",
    "    padded_seq = pad_sequences(seq, maxlen=max_length, padding=\"post\", truncating=\"post\")\n",
    "\n",
    "    # Get model predictions\n",
    "    predictions = rnn_model.predict(padded_seq)[0]\n",
    "    \n",
    "    # Get highest probability SKU\n",
    "    max_prob = np.max(predictions)\n",
    "    predicted_label = np.argmax(predictions)\n",
    "\n",
    "    # If confidence is low, return \"unknown\"\n",
    "    if max_prob < threshold:\n",
    "        return \"unknown\"\n",
    "\n",
    "    # Convert label back to SKU\n",
    "    return label_encoder.inverse_transform([predicted_label])[0]\n",
    "\n",
    "# # Example Predictions\n",
    "# print(predict_sku(\"بانادول اكسترا\"))  # Should return the correct SKU or \"unknown\"\n",
    "# print(predict_sku(\"شوجارلو بلس 50/1000  30\"))  # Should return \"unknown\"\n",
    "# print(predict_sku(\"GLIPTUS PLUS 50/1000 MG 30 TAB\"))  # Should return \"unknown\"\n"
   ]
  },
  {
   "cell_type": "code",
   "execution_count": 15,
   "metadata": {},
   "outputs": [
    {
     "name": "stdout",
     "output_type": "stream",
     "text": [
      "\u001b[1m784/784\u001b[0m \u001b[32m━━━━━━━━━━━━━━━━━━━━\u001b[0m\u001b[37m\u001b[0m \u001b[1m4s\u001b[0m 4ms/step\n"
     ]
    }
   ],
   "source": [
    "probabilities = rnn_model.predict(X_test)\n",
    "\n",
    "confidence_scores = np.max(probabilities, axis=1)\n",
    "\n",
    "predicted_indices = np.argmax(probabilities, axis=1)\n",
    "\n",
    "predicted_labels = label_encoder.inverse_transform(predicted_indices)\n",
    "\n",
    "confidence_threshold = 0.85\n",
    "\n",
    "test_results = []\n",
    "\n",
    "for i in range(len(X_test)):\n",
    "    confidence = confidence_scores[i]\n",
    "    predicted_class = predicted_labels[i]\n",
    "\n",
    "    if confidence < confidence_threshold:\n",
    "        predicted_class = \"Unknown\"\n",
    "\n",
    "    test_results.append({\n",
    "        'Predicted': predicted_class,\n",
    "        'Confidence': f\"{confidence:.2f}\"\n",
    "    })\n",
    "\n",
    "temp_df = pd.DataFrame(test_results)\n",
    "\n",
    "temp_df.head()\n",
    "df.to_csv(\"predict.csv\" , index=False)\n"
   ]
  },
  {
   "cell_type": "code",
   "execution_count": null,
   "metadata": {},
   "outputs": [
    {
     "name": "stdout",
     "output_type": "stream",
     "text": [
      "Collecting farasa\n",
      "  Downloading Farasa-0.0.1-py2.py3-none-any.whl.metadata (1.4 kB)\n",
      "Downloading Farasa-0.0.1-py2.py3-none-any.whl (12.6 MB)\n",
      "   ---------------------------------------- 0.0/12.6 MB ? eta -:--:--\n",
      "   ---------------------------------------- 0.0/12.6 MB ? eta -:--:--\n",
      "    --------------------------------------- 0.3/12.6 MB ? eta -:--:--\n",
      "    --------------------------------------- 0.3/12.6 MB ? eta -:--:--\n",
      "   - -------------------------------------- 0.5/12.6 MB 645.7 kB/s eta 0:00:19\n",
      "   - -------------------------------------- 0.5/12.6 MB 645.7 kB/s eta 0:00:19\n",
      "   -- ------------------------------------- 0.8/12.6 MB 657.8 kB/s eta 0:00:18\n",
      "   -- ------------------------------------- 0.8/12.6 MB 657.8 kB/s eta 0:00:18\n",
      "   --- ------------------------------------ 1.0/12.6 MB 645.7 kB/s eta 0:00:18\n",
      "   --- ------------------------------------ 1.0/12.6 MB 645.7 kB/s eta 0:00:18\n",
      "   --- ------------------------------------ 1.0/12.6 MB 645.7 kB/s eta 0:00:18\n",
      "   ---- ----------------------------------- 1.3/12.6 MB 583.5 kB/s eta 0:00:20\n",
      "   ---- ----------------------------------- 1.3/12.6 MB 583.5 kB/s eta 0:00:20\n",
      "   ---- ----------------------------------- 1.6/12.6 MB 590.9 kB/s eta 0:00:19\n",
      "   ----- ---------------------------------- 1.8/12.6 MB 625.4 kB/s eta 0:00:18\n",
      "   ----- ---------------------------------- 1.8/12.6 MB 625.4 kB/s eta 0:00:18\n",
      "   ----- ---------------------------------- 1.8/12.6 MB 625.4 kB/s eta 0:00:18\n",
      "   ------ --------------------------------- 2.1/12.6 MB 611.7 kB/s eta 0:00:18\n",
      "   ------ --------------------------------- 2.1/12.6 MB 611.7 kB/s eta 0:00:18\n",
      "   ------- -------------------------------- 2.4/12.6 MB 607.3 kB/s eta 0:00:17\n",
      "   -------- ------------------------------- 2.6/12.6 MB 626.6 kB/s eta 0:00:16\n",
      "   -------- ------------------------------- 2.6/12.6 MB 626.6 kB/s eta 0:00:16\n",
      "   --------- ------------------------------ 2.9/12.6 MB 628.3 kB/s eta 0:00:16\n",
      "   --------- ------------------------------ 2.9/12.6 MB 628.3 kB/s eta 0:00:16\n",
      "   --------- ------------------------------ 2.9/12.6 MB 628.3 kB/s eta 0:00:16\n",
      "   --------- ------------------------------ 3.1/12.6 MB 615.2 kB/s eta 0:00:16\n",
      "   --------- ------------------------------ 3.1/12.6 MB 615.2 kB/s eta 0:00:16\n",
      "   ---------- ----------------------------- 3.4/12.6 MB 621.4 kB/s eta 0:00:15\n",
      "   ---------- ----------------------------- 3.4/12.6 MB 621.4 kB/s eta 0:00:15\n",
      "   ----------- ---------------------------- 3.7/12.6 MB 614.4 kB/s eta 0:00:15\n",
      "   ----------- ---------------------------- 3.7/12.6 MB 614.4 kB/s eta 0:00:15\n",
      "   ------------ --------------------------- 3.9/12.6 MB 618.2 kB/s eta 0:00:14\n",
      "   ------------ --------------------------- 3.9/12.6 MB 618.2 kB/s eta 0:00:14\n",
      "   ------------- -------------------------- 4.2/12.6 MB 613.8 kB/s eta 0:00:14\n",
      "   ------------- -------------------------- 4.2/12.6 MB 613.8 kB/s eta 0:00:14\n",
      "   -------------- ------------------------- 4.5/12.6 MB 611.5 kB/s eta 0:00:14\n",
      "   -------------- ------------------------- 4.5/12.6 MB 611.5 kB/s eta 0:00:14\n",
      "   -------------- ------------------------- 4.7/12.6 MB 618.7 kB/s eta 0:00:13\n",
      "   --------------- ------------------------ 5.0/12.6 MB 622.7 kB/s eta 0:00:13\n",
      "   --------------- ------------------------ 5.0/12.6 MB 622.7 kB/s eta 0:00:13\n",
      "   ---------------- ----------------------- 5.2/12.6 MB 623.8 kB/s eta 0:00:12\n",
      "   ---------------- ----------------------- 5.2/12.6 MB 623.8 kB/s eta 0:00:12\n",
      "   ----------------- ---------------------- 5.5/12.6 MB 622.5 kB/s eta 0:00:12\n",
      "   ----------------- ---------------------- 5.5/12.6 MB 622.5 kB/s eta 0:00:12\n",
      "   ----------------- ---------------------- 5.5/12.6 MB 622.5 kB/s eta 0:00:12\n",
      "   ----------------- ---------------------- 5.5/12.6 MB 622.5 kB/s eta 0:00:12\n",
      "   ------------------ --------------------- 5.8/12.6 MB 599.2 kB/s eta 0:00:12\n",
      "   ------------------ --------------------- 5.8/12.6 MB 599.2 kB/s eta 0:00:12\n",
      "   ------------------- -------------------- 6.0/12.6 MB 598.3 kB/s eta 0:00:11\n",
      "   ------------------- -------------------- 6.0/12.6 MB 598.3 kB/s eta 0:00:11\n",
      "   ------------------- -------------------- 6.3/12.6 MB 602.0 kB/s eta 0:00:11\n",
      "   ------------------- -------------------- 6.3/12.6 MB 602.0 kB/s eta 0:00:11\n",
      "   -------------------- ------------------- 6.6/12.6 MB 603.7 kB/s eta 0:00:10\n",
      "   -------------------- ------------------- 6.6/12.6 MB 603.7 kB/s eta 0:00:10\n",
      "   --------------------- ------------------ 6.8/12.6 MB 601.8 kB/s eta 0:00:10\n",
      "   --------------------- ------------------ 6.8/12.6 MB 601.8 kB/s eta 0:00:10\n",
      "   ---------------------- ----------------- 7.1/12.6 MB 601.7 kB/s eta 0:00:10\n",
      "   ---------------------- ----------------- 7.1/12.6 MB 601.7 kB/s eta 0:00:10\n",
      "   ----------------------- ---------------- 7.3/12.6 MB 601.6 kB/s eta 0:00:09\n",
      "   ----------------------- ---------------- 7.3/12.6 MB 601.6 kB/s eta 0:00:09\n",
      "   ------------------------ --------------- 7.6/12.6 MB 604.6 kB/s eta 0:00:09\n",
      "   ------------------------ --------------- 7.6/12.6 MB 604.6 kB/s eta 0:00:09\n",
      "   ------------------------ --------------- 7.9/12.6 MB 604.4 kB/s eta 0:00:08\n",
      "   ------------------------ --------------- 7.9/12.6 MB 604.4 kB/s eta 0:00:08\n",
      "   ------------------------- -------------- 8.1/12.6 MB 608.6 kB/s eta 0:00:08\n",
      "   ------------------------- -------------- 8.1/12.6 MB 608.6 kB/s eta 0:00:08\n",
      "   -------------------------- ------------- 8.4/12.6 MB 611.1 kB/s eta 0:00:07\n",
      "   -------------------------- ------------- 8.4/12.6 MB 611.1 kB/s eta 0:00:07\n",
      "   --------------------------- ------------ 8.7/12.6 MB 606.6 kB/s eta 0:00:07\n",
      "   --------------------------- ------------ 8.7/12.6 MB 606.6 kB/s eta 0:00:07\n",
      "   ---------------------------- ----------- 8.9/12.6 MB 611.1 kB/s eta 0:00:07\n",
      "   ---------------------------- ----------- 8.9/12.6 MB 611.1 kB/s eta 0:00:07\n",
      "   ----------------------------- ---------- 9.2/12.6 MB 609.4 kB/s eta 0:00:06\n",
      "   ----------------------------- ---------- 9.2/12.6 MB 609.4 kB/s eta 0:00:06\n",
      "   ----------------------------- ---------- 9.4/12.6 MB 614.2 kB/s eta 0:00:06\n",
      "   ----------------------------- ---------- 9.4/12.6 MB 614.2 kB/s eta 0:00:06\n",
      "   ------------------------------ --------- 9.7/12.6 MB 611.9 kB/s eta 0:00:05\n",
      "   ------------------------------ --------- 9.7/12.6 MB 611.9 kB/s eta 0:00:05\n",
      "   ------------------------------- -------- 10.0/12.6 MB 611.6 kB/s eta 0:00:05\n",
      "   ------------------------------- -------- 10.0/12.6 MB 611.6 kB/s eta 0:00:05\n",
      "   -------------------------------- ------- 10.2/12.6 MB 615.4 kB/s eta 0:00:04\n",
      "   -------------------------------- ------- 10.2/12.6 MB 615.4 kB/s eta 0:00:04\n",
      "   --------------------------------- ------ 10.5/12.6 MB 610.9 kB/s eta 0:00:04\n",
      "   --------------------------------- ------ 10.5/12.6 MB 610.9 kB/s eta 0:00:04\n",
      "   ---------------------------------- ----- 10.7/12.6 MB 613.5 kB/s eta 0:00:03\n",
      "   ---------------------------------- ----- 10.7/12.6 MB 613.5 kB/s eta 0:00:03\n",
      "   ---------------------------------- ----- 11.0/12.6 MB 616.4 kB/s eta 0:00:03\n",
      "   ---------------------------------- ----- 11.0/12.6 MB 616.4 kB/s eta 0:00:03\n",
      "   ----------------------------------- ---- 11.3/12.6 MB 615.9 kB/s eta 0:00:03\n",
      "   ----------------------------------- ---- 11.3/12.6 MB 615.9 kB/s eta 0:00:03\n",
      "   ------------------------------------ --- 11.5/12.6 MB 615.6 kB/s eta 0:00:02\n",
      "   ------------------------------------ --- 11.5/12.6 MB 615.6 kB/s eta 0:00:02\n",
      "   ------------------------------------- -- 11.8/12.6 MB 614.7 kB/s eta 0:00:02\n",
      "   ------------------------------------- -- 11.8/12.6 MB 614.7 kB/s eta 0:00:02\n",
      "   -------------------------------------- - 12.1/12.6 MB 615.3 kB/s eta 0:00:01\n",
      "   -------------------------------------- - 12.1/12.6 MB 615.3 kB/s eta 0:00:01\n",
      "   ---------------------------------------  12.3/12.6 MB 614.5 kB/s eta 0:00:01\n",
      "   ---------------------------------------  12.3/12.6 MB 614.5 kB/s eta 0:00:01\n",
      "   ---------------------------------------- 12.6/12.6 MB 617.1 kB/s eta 0:00:00\n",
      "Installing collected packages: farasa\n",
      "Successfully installed farasa-0.0.1\n",
      "Note: you may need to restart the kernel to use updated packages.\n"
     ]
    },
    {
     "name": "stderr",
     "output_type": "stream",
     "text": [
      "\n",
      "[notice] A new release of pip is available: 24.3.1 -> 25.0.1\n",
      "[notice] To update, run: python.exe -m pip install --upgrade pip\n"
     ]
    }
   ],
   "source": [
    "# pip install farasa"
   ]
  },
  {
   "cell_type": "code",
   "execution_count": null,
   "metadata": {},
   "outputs": [
    {
     "ename": "ModuleNotFoundError",
     "evalue": "No module named 'farasa.segmenter'",
     "output_type": "error",
     "traceback": [
      "\u001b[1;31m---------------------------------------------------------------------------\u001b[0m",
      "\u001b[1;31mModuleNotFoundError\u001b[0m                       Traceback (most recent call last)",
      "Cell \u001b[1;32mIn[38], line 1\u001b[0m\n\u001b[1;32m----> 1\u001b[0m \u001b[38;5;28;01mfrom\u001b[39;00m \u001b[38;5;21;01mfarasa\u001b[39;00m\u001b[38;5;21;01m.\u001b[39;00m\u001b[38;5;21;01msegmenter\u001b[39;00m \u001b[38;5;28;01mimport\u001b[39;00m FarasaSegmenter\n\u001b[0;32m      3\u001b[0m \u001b[38;5;28;01mdef\u001b[39;00m \u001b[38;5;21mcorrect_spelling_arabic\u001b[39m(text):\n\u001b[0;32m      4\u001b[0m     segmenter \u001b[38;5;241m=\u001b[39m FarasaSegmenter()\n",
      "\u001b[1;31mModuleNotFoundError\u001b[0m: No module named 'farasa.segmenter'"
     ]
    }
   ],
   "source": [
    "# from farasa.segmenter import FarasaSegmenter\n",
    "\n",
    "# def correct_spelling_arabic(text):\n",
    "#     segmenter = FarasaSegmenter()\n",
    "#     corrected_text = segmenter.spellcheck(text)\n",
    "#     return corrected_text\n",
    "\n",
    "# # Test\n",
    "# text = \"فلكسوفان كيسول س ج ركزز\"\n",
    "# corrected_text = correct_spelling_arabic(text)\n",
    "# print(corrected_text)  # Output: \"فليكسوفان كبسول س ج ركزز\""
   ]
  }
 ],
 "metadata": {
  "kernelspec": {
   "display_name": "Python 3",
   "language": "python",
   "name": "python3"
  },
  "language_info": {
   "codemirror_mode": {
    "name": "ipython",
    "version": 3
   },
   "file_extension": ".py",
   "mimetype": "text/x-python",
   "name": "python",
   "nbconvert_exporter": "python",
   "pygments_lexer": "ipython3",
   "version": "3.12.0"
  }
 },
 "nbformat": 4,
 "nbformat_minor": 2
}
