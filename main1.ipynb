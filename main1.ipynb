{
 "cells": [
  {
   "cell_type": "markdown",
   "metadata": {},
   "source": [
    "# Import Libraries"
   ]
  },
  {
   "cell_type": "code",
   "execution_count": 1,
   "metadata": {},
   "outputs": [],
   "source": [
    "import pandas as pd\n",
    "import re\n",
    "import nltk\n",
    "from nltk.corpus import stopwords\n",
    "from nltk.tokenize import word_tokenize\n",
    "from symspellpy import SymSpell\n",
    "from difflib import SequenceMatcher\n",
    "from sklearn.feature_extraction.text import TfidfVectorizer\n",
    "from sklearn.model_selection import train_test_split\n",
    "from sklearn.linear_model import LogisticRegression\n",
    "from sklearn.metrics import accuracy_score\n",
    "import numpy as np\n",
    "import tensorflow as tf\n",
    "from tensorflow.keras.preprocessing.text import Tokenizer\n",
    "from tensorflow.keras.preprocessing.sequence import pad_sequences\n",
    "from tensorflow.keras.models import Sequential\n",
    "from tensorflow.keras.layers import Embedding, LSTM, Dense, Dropout\n",
    "from sklearn.preprocessing import LabelEncoder\n",
    "from sklearn.model_selection import train_test_split\n",
    "from sklearn.preprocessing import StandardScaler\n",
    "from tensorflow.keras.callbacks import EarlyStopping"
   ]
  },
  {
   "cell_type": "markdown",
   "metadata": {},
   "source": [
    "# Read Dataset"
   ]
  },
  {
   "cell_type": "code",
   "execution_count": 2,
   "metadata": {},
   "outputs": [
    {
     "data": {
      "text/html": [
       "<div>\n",
       "<style scoped>\n",
       "    .dataframe tbody tr th:only-of-type {\n",
       "        vertical-align: middle;\n",
       "    }\n",
       "\n",
       "    .dataframe tbody tr th {\n",
       "        vertical-align: top;\n",
       "    }\n",
       "\n",
       "    .dataframe thead th {\n",
       "        text-align: right;\n",
       "    }\n",
       "</style>\n",
       "<table border=\"1\" class=\"dataframe\">\n",
       "  <thead>\n",
       "    <tr style=\"text-align: right;\">\n",
       "      <th></th>\n",
       "      <th>sku</th>\n",
       "      <th>marketplace_product_name_ar</th>\n",
       "      <th>seller_item_name</th>\n",
       "      <th>price</th>\n",
       "    </tr>\n",
       "  </thead>\n",
       "  <tbody>\n",
       "    <tr>\n",
       "      <th>0</th>\n",
       "      <td>1322</td>\n",
       "      <td>استوهالت 40 مجم 14 كبسول</td>\n",
       "      <td>ESTOHALT 40 MG 14 CAP</td>\n",
       "      <td>56.5</td>\n",
       "    </tr>\n",
       "    <tr>\n",
       "      <th>1</th>\n",
       "      <td>1322</td>\n",
       "      <td>استوهالت 40 مجم 14 كبسول</td>\n",
       "      <td>استوهالت 40 مجم 14 ك</td>\n",
       "      <td>56.5</td>\n",
       "    </tr>\n",
       "    <tr>\n",
       "      <th>2</th>\n",
       "      <td>1322</td>\n",
       "      <td>استوهالت 40 مجم 14 كبسول</td>\n",
       "      <td>استوهالت 40 مجم 14 ك</td>\n",
       "      <td>56.5</td>\n",
       "    </tr>\n",
       "    <tr>\n",
       "      <th>3</th>\n",
       "      <td>1322</td>\n",
       "      <td>استوهالت 40 مجم 14 كبسول</td>\n",
       "      <td>استوهالت 40 مجم 14 ك</td>\n",
       "      <td>56.5</td>\n",
       "    </tr>\n",
       "    <tr>\n",
       "      <th>4</th>\n",
       "      <td>1322</td>\n",
       "      <td>استوهالت 40 مجم 14 كبسول</td>\n",
       "      <td>استوهالت 40 مجم 14 ك</td>\n",
       "      <td>56.5</td>\n",
       "    </tr>\n",
       "    <tr>\n",
       "      <th>5</th>\n",
       "      <td>1322</td>\n",
       "      <td>استوهالت 40 مجم 14 كبسول</td>\n",
       "      <td>استوهالت 40 مجم 14 ك</td>\n",
       "      <td>56.5</td>\n",
       "    </tr>\n",
       "    <tr>\n",
       "      <th>6</th>\n",
       "      <td>1322</td>\n",
       "      <td>استوهالت 40 مجم 14 كبسول</td>\n",
       "      <td>استوهالت 40 مجم 14 ك</td>\n",
       "      <td>56.5</td>\n",
       "    </tr>\n",
       "    <tr>\n",
       "      <th>7</th>\n",
       "      <td>1322</td>\n",
       "      <td>استوهالت 40 مجم 14 كبسول</td>\n",
       "      <td>استوهالت 40 مجم 1 شريط * 14 كبسولة</td>\n",
       "      <td>56.5</td>\n",
       "    </tr>\n",
       "    <tr>\n",
       "      <th>8</th>\n",
       "      <td>1322</td>\n",
       "      <td>استوهالت 40 مجم 14 كبسول</td>\n",
       "      <td>استوهالت 40 مجم</td>\n",
       "      <td>56.5</td>\n",
       "    </tr>\n",
       "    <tr>\n",
       "      <th>9</th>\n",
       "      <td>1322</td>\n",
       "      <td>استوهالت 40 مجم 14 كبسول</td>\n",
       "      <td>استوهالت 40 كبسول س ج</td>\n",
       "      <td>56.5</td>\n",
       "    </tr>\n",
       "  </tbody>\n",
       "</table>\n",
       "</div>"
      ],
      "text/plain": [
       "    sku marketplace_product_name_ar                    seller_item_name  price\n",
       "0  1322    استوهالت 40 مجم 14 كبسول               ESTOHALT 40 MG 14 CAP   56.5\n",
       "1  1322    استوهالت 40 مجم 14 كبسول                استوهالت 40 مجم 14 ك   56.5\n",
       "2  1322    استوهالت 40 مجم 14 كبسول                استوهالت 40 مجم 14 ك   56.5\n",
       "3  1322    استوهالت 40 مجم 14 كبسول                استوهالت 40 مجم 14 ك   56.5\n",
       "4  1322    استوهالت 40 مجم 14 كبسول                استوهالت 40 مجم 14 ك   56.5\n",
       "5  1322    استوهالت 40 مجم 14 كبسول                استوهالت 40 مجم 14 ك   56.5\n",
       "6  1322    استوهالت 40 مجم 14 كبسول                استوهالت 40 مجم 14 ك   56.5\n",
       "7  1322    استوهالت 40 مجم 14 كبسول  استوهالت 40 مجم 1 شريط * 14 كبسولة   56.5\n",
       "8  1322    استوهالت 40 مجم 14 كبسول                     استوهالت 40 مجم   56.5\n",
       "9  1322    استوهالت 40 مجم 14 كبسول               استوهالت 40 كبسول س ج   56.5"
      ]
     },
     "execution_count": 2,
     "metadata": {},
     "output_type": "execute_result"
    }
   ],
   "source": [
    "df = pd.read_excel(\"Product Matching Dataset.xlsx\" , sheet_name=\"Dataset\")\n",
    "df.head(n=10)"
   ]
  },
  {
   "cell_type": "markdown",
   "metadata": {},
   "source": [
    "# Preprocessing"
   ]
  },
  {
   "cell_type": "code",
   "execution_count": 3,
   "metadata": {},
   "outputs": [],
   "source": [
    "stop_words = set(stopwords.words(\"arabic\")) | set(stopwords.words(\"english\"))\n",
    "\n",
    "# text_column = df[\"seller_item_name\"].astype(str)  # Ensure text format"
   ]
  },
  {
   "cell_type": "code",
   "execution_count": 4,
   "metadata": {},
   "outputs": [],
   "source": [
    "def preprocessing(text):\n",
    "    # Remove stopwords\n",
    "    text = \" \".join(word for word in text.split() if word not in stop_words)\n",
    "    # Remove punctuation & special characters (Keep Arabic, English, and Numbers)\n",
    "    text = re.sub(r\"[^\\w\\s\\u0600-\\u06FF]\", \" \", text)\n",
    "    # Remove Arabic diacritics (Tashkeel)\n",
    "    text = re.sub(r\"[\\u064B-\\u065F]\", \"\", text)\n",
    "\n",
    "    text = re.sub(r'[إأآ]', 'ا', text)\n",
    "    text = re.sub(r'ى', 'ي', text)\n",
    "    text = re.sub(r'ة', 'ه ', text)\n",
    "    text = re.sub(r'ؤ', 'و', text)\n",
    "    text = re.sub(r'ئ', 'ي', text)\n",
    "    text = re.sub(r'ــ', '', text)\n",
    "    text = re.sub(r\"(\\d+)\", r\" \\1 \", text)\n",
    "    text = re.sub(r\"\\b[\\u0600-\\u06FF]\\b\", \"\", text)\n",
    "    text = re.sub(r'([\\u0600-\\u06FF])\\1{2,}', r'\\1\\1', text)\n",
    "    text = re.sub(r'(.)\\1+', r'\\1', text) # remove repetitions\n",
    "    text = re.sub(r'\\b\\w\\b', '', text)  # Removes standalone single characters\n",
    "    text = re.sub(r'\\b(?:سعر جديد|س جديد|س جدي|س ج|ركز)\\b', '', text)# Remove specific unwanted phrases\n",
    "    text = re.sub( r'مرهم|اكريم', 'كريم', text)\n",
    "    text = re.sub( r'قرص|اقراص|كبسوله', 'كبسول', text)\n",
    "    text = re.sub( r'اقراص|شريط|شرائط|شريطين', 'قرص', text)\n",
    "    text = re.sub( r'امبولات|امبوله|حقن', 'امبول', text)\n",
    "    text = re.sub( r'لبوس|لبوس اطفال|لبوس اطفال فاركو', 'اقماع للاطفال', text)\n",
    "    text = re.sub(r\"\\s+\", \" \", text).strip()\n",
    "    \n",
    "    return text"
   ]
  },
  {
   "cell_type": "code",
   "execution_count": 5,
   "metadata": {},
   "outputs": [],
   "source": [
    "df[\"cleaned_seller_item_name\"] = df[\"seller_item_name\"].astype(str).apply(preprocessing)\n",
    "scaler = StandardScaler()\n",
    "df[\"scaled_price\"] = scaler.fit_transform(df[[\"price\"]])\n",
    "X = df[[\"cleaned_seller_item_name\", \"scaled_price\"]]\n",
    "Y = df[\"sku\"]\n",
    "\n",
    "X_train, X_test, y_train, y_test = train_test_split( X, Y, test_size=0.2, random_state=42, stratify=Y, shuffle=True)\n"
   ]
  },
  {
   "cell_type": "markdown",
   "metadata": {},
   "source": [
    "# Build SymSpell Dictionary"
   ]
  },
  {
   "cell_type": "code",
   "execution_count": 13,
   "metadata": {},
   "outputs": [],
   "source": [
    "# word_freq_dict = {}\n",
    "# for product in df[\"marketplace_product_name_ar\"].dropna():\n",
    "#     normalized_product = str(product).strip()\n",
    "#     word_freq_dict[normalized_product] = word_freq_dict.get(normalized_product, 0) + 1\n",
    "\n",
    "# # Save dictionary\n",
    "# dict_file = \"product_dictionary.txt\"\n",
    "# with open(dict_file, \"w\", encoding=\"utf-8\") as f:\n",
    "#     for word, freq in word_freq_dict.items():\n",
    "#         f.write(f\"{word} {freq}\\n\")\n",
    "\n",
    "# # Initialize SymSpell\n",
    "# sym_spell = SymSpell(max_dictionary_edit_distance=2, prefix_length=7)\n",
    "# sym_spell.load_dictionary(dict_file, term_index=0, count_index=1, encoding=\"utf-8\")\n",
    "\n",
    "# # 3. Apply SymSpell Correction\n",
    "# def correct_text(text):\n",
    "#     suggestions = sym_spell.lookup(text, verbosity=2, max_edit_distance=2)\n",
    "#     return suggestions[0].term if suggestions else text\n",
    "\n",
    "# df[\"corrected_seller_item_name\"] = df[\"cleaned_seller_item_name\"].apply(correct_text)"
   ]
  },
  {
   "cell_type": "markdown",
   "metadata": {},
   "source": [
    "# Train Models"
   ]
  },
  {
   "cell_type": "code",
   "execution_count": 14,
   "metadata": {},
   "outputs": [
    {
     "name": "stdout",
     "output_type": "stream",
     "text": [
      "Logistic Regression Model Accuracy: 0.8648\n"
     ]
    }
   ],
   "source": [
    "vectorizer = TfidfVectorizer(max_features=500)\n",
    "X_train_tfidf = vectorizer.fit_transform(X_train[\"cleaned_seller_item_name\"])\n",
    "X_test_tfidf = vectorizer.transform(X_test[\"cleaned_seller_item_name\"])\n",
    "\n",
    "# Train Logistic Regression Model\n",
    "logistic_model = LogisticRegression()\n",
    "logistic_model.fit(X_train_tfidf, y_train)\n",
    "\n",
    "y_pred = logistic_model.predict(X_test_tfidf)\n",
    "accuracy = accuracy_score(y_test, y_pred)\n",
    "print(f\"Logistic Regression Model Accuracy: {accuracy:.4f}\")"
   ]
  },
  {
   "cell_type": "code",
   "execution_count": null,
   "metadata": {},
   "outputs": [
    {
     "name": "stdout",
     "output_type": "stream",
     "text": [
      "Logistic Regression Model Accuracy: 0.8648\n"
     ]
    },
    {
     "name": "stderr",
     "output_type": "stream",
     "text": [
      "C:\\Users\\hassa\\AppData\\Local\\Programs\\Python\\Python312\\Lib\\site-packages\\keras\\src\\layers\\core\\embedding.py:90: UserWarning: Argument `input_length` is deprecated. Just remove it.\n",
      "  warnings.warn(\n"
     ]
    },
    {
     "name": "stdout",
     "output_type": "stream",
     "text": [
      "Epoch 1/100\n",
      "\u001b[1m1828/1828\u001b[0m \u001b[32m━━━━━━━━━━━━━━━━━━━━\u001b[0m\u001b[37m\u001b[0m \u001b[1m44s\u001b[0m 21ms/step - accuracy: 0.1221 - loss: 4.7405 - val_accuracy: 0.8558 - val_loss: 1.0872\n",
      "Epoch 2/100\n",
      "\u001b[1m1828/1828\u001b[0m \u001b[32m━━━━━━━━━━━━━━━━━━━━\u001b[0m\u001b[37m\u001b[0m \u001b[1m39s\u001b[0m 22ms/step - accuracy: 0.8361 - loss: 0.9156 - val_accuracy: 0.9420 - val_loss: 0.2969\n",
      "Epoch 3/100\n",
      "\u001b[1m1828/1828\u001b[0m \u001b[32m━━━━━━━━━━━━━━━━━━━━\u001b[0m\u001b[37m\u001b[0m \u001b[1m39s\u001b[0m 22ms/step - accuracy: 0.9329 - loss: 0.3006 - val_accuracy: 0.9500 - val_loss: 0.2200\n",
      "Epoch 4/100\n",
      "\u001b[1m1828/1828\u001b[0m \u001b[32m━━━━━━━━━━━━━━━━━━━━\u001b[0m\u001b[37m\u001b[0m \u001b[1m39s\u001b[0m 21ms/step - accuracy: 0.9475 - loss: 0.1839 - val_accuracy: 0.9501 - val_loss: 0.2161\n",
      "Epoch 5/100\n",
      "\u001b[1m1828/1828\u001b[0m \u001b[32m━━━━━━━━━━━━━━━━━━━━\u001b[0m\u001b[37m\u001b[0m \u001b[1m39s\u001b[0m 21ms/step - accuracy: 0.9503 - loss: 0.1493 - val_accuracy: 0.9528 - val_loss: 0.2165\n",
      "Epoch 6/100\n",
      "\u001b[1m1828/1828\u001b[0m \u001b[32m━━━━━━━━━━━━━━━━━━━━\u001b[0m\u001b[37m\u001b[0m \u001b[1m39s\u001b[0m 22ms/step - accuracy: 0.9564 - loss: 0.1233 - val_accuracy: 0.9559 - val_loss: 0.2106\n",
      "Epoch 7/100\n",
      "\u001b[1m1828/1828\u001b[0m \u001b[32m━━━━━━━━━━━━━━━━━━━━\u001b[0m\u001b[37m\u001b[0m \u001b[1m39s\u001b[0m 22ms/step - accuracy: 0.9583 - loss: 0.1090 - val_accuracy: 0.9558 - val_loss: 0.2159\n",
      "Epoch 8/100\n",
      "\u001b[1m1828/1828\u001b[0m \u001b[32m━━━━━━━━━━━━━━━━━━━━\u001b[0m\u001b[37m\u001b[0m \u001b[1m39s\u001b[0m 21ms/step - accuracy: 0.9610 - loss: 0.1031 - val_accuracy: 0.9545 - val_loss: 0.2266\n",
      "Epoch 9/100\n",
      "\u001b[1m1828/1828\u001b[0m \u001b[32m━━━━━━━━━━━━━━━━━━━━\u001b[0m\u001b[37m\u001b[0m \u001b[1m39s\u001b[0m 21ms/step - accuracy: 0.9608 - loss: 0.0951 - val_accuracy: 0.9566 - val_loss: 0.2254\n",
      "Epoch 10/100\n",
      "\u001b[1m1828/1828\u001b[0m \u001b[32m━━━━━━━━━━━━━━━━━━━━\u001b[0m\u001b[37m\u001b[0m \u001b[1m40s\u001b[0m 22ms/step - accuracy: 0.9618 - loss: 0.0940 - val_accuracy: 0.9562 - val_loss: 0.2317\n",
      "Epoch 11/100\n",
      "\u001b[1m1828/1828\u001b[0m \u001b[32m━━━━━━━━━━━━━━━━━━━━\u001b[0m\u001b[37m\u001b[0m \u001b[1m50s\u001b[0m 28ms/step - accuracy: 0.9615 - loss: 0.0912 - val_accuracy: 0.9562 - val_loss: 0.2347\n",
      "\u001b[1m784/784\u001b[0m \u001b[32m━━━━━━━━━━━━━━━━━━━━\u001b[0m\u001b[37m\u001b[0m \u001b[1m3s\u001b[0m 3ms/step - accuracy: 0.9566 - loss: 0.2083\n",
      "RNN Model Accuracy: 0.9559\n"
     ]
    }
   ],
   "source": [
    "# label_encoder = LabelEncoder()\n",
    "# df[\"encoded_sku\"] = label_encoder.fit_transform(df[\"sku\"])\n",
    "\n",
    "# # Tokenization for RNN\n",
    "# num_words = 5000\n",
    "# tokenizer = Tokenizer(num_words=num_words, oov_token=\"<OOV>\")\n",
    "# tokenizer.fit_on_texts(df[\"cleaned_seller_item_name\"])\n",
    "# sequences = tokenizer.texts_to_sequences(df[\"cleaned_seller_item_name\"])\n",
    "\n",
    "# # Padding\n",
    "# max_length = max(len(seq) for seq in sequences)\n",
    "# x_padded = pad_sequences(sequences, maxlen=max_length, padding=\"post\", truncating=\"post\")\n",
    "\n",
    "# # Train-Test Split for RNN\n",
    "# X_train, X_test, y_train, y_test = train_test_split(x_padded, df[\"encoded_sku\"], test_size=0.3, random_state=42)\n",
    "\n",
    "# # Build RNN Model\n",
    "# rnn_model = Sequential([\n",
    "#     Embedding(input_dim=num_words, output_dim=128, input_length=max_length),\n",
    "#     LSTM(64, return_sequences=True),\n",
    "#     Dropout(0.2),\n",
    "#     LSTM(32),\n",
    "#     Dropout(0.2),\n",
    "#     Dense(32, activation=\"relu\"),\n",
    "#     Dense(len(label_encoder.classes_), activation=\"softmax\")\n",
    "# ])\n",
    "\n",
    "# rnn_model.compile(loss=\"sparse_categorical_crossentropy\", optimizer=\"adam\", metrics=[\"accuracy\"])\n",
    "# # Early Stopping\n",
    "# early_stopping = EarlyStopping(monitor=\"val_loss\", patience=5, restore_best_weights=True)\n",
    "\n",
    "# # Train RNN Model\n",
    "# rnn_model.fit(X_train, y_train, epochs=100, batch_size=32, validation_data=(X_test, y_test), callbacks=[early_stopping])\n",
    "\n",
    "# loss, accuracy = rnn_model.evaluate(X_test, y_test)\n",
    "# print(f\"RNN Model Accuracy: {accuracy:.4f}\")\n",
    "\n",
    "\n",
    "# Label Encoding for SKU\n",
    "label_encoder = LabelEncoder()\n",
    "df[\"encoded_sku\"] = label_encoder.fit_transform(df[\"sku\"])\n",
    "\n",
    "# Tokenization for RNN\n",
    "num_words = 5000\n",
    "tokenizer = Tokenizer(num_words=num_words, oov_token=\"<OOV>\")\n",
    "tokenizer.fit_on_texts(df[\"cleaned_seller_item_name\"])\n",
    "sequences = tokenizer.texts_to_sequences(df[\"cleaned_seller_item_name\"])\n",
    "\n",
    "# Padding\n",
    "max_length = max(len(seq) for seq in sequences)\n",
    "x_padded = pad_sequences(sequences, maxlen=max_length, padding=\"post\", truncating=\"post\")\n",
    "\n",
    "# Train-Test Split for RNN\n",
    "X_train, X_test, y_train, y_test = train_test_split(x_padded, df[\"encoded_sku\"], test_size=0.3, random_state=42)\n",
    "\n",
    "# Build Improved RNN Model\n",
    "rnn_model = Sequential([\n",
    "    Embedding(input_dim=num_words, output_dim=256, input_length=max_length),\n",
    "    Bidirectional(LSTM(64, return_sequences=True)),\n",
    "    Dropout(0.2),\n",
    "    Bidirectional(GRU(32)),\n",
    "    Dropout(0.2),\n",
    "    Dense(32, activation=\"relu\"),\n",
    "    Dense(len(label_encoder.classes_), activation=\"softmax\")\n",
    "])\n",
    "\n",
    "rnn_model.compile(loss=\"sparse_categorical_crossentropy\", optimizer=Adam(learning_rate=0.0005), metrics=[\"accuracy\"])\n",
    "\n",
    "# Early Stopping\n",
    "early_stopping = EarlyStopping(monitor=\"val_loss\", patience=5, restore_best_weights=True)\n",
    "\n",
    "# Train RNN Model\n",
    "rnn_model.fit(X_train, y_train, epochs=100, batch_size=32, validation_data=(X_test, y_test), callbacks=[early_stopping])\n",
    "\n",
    "loss, accuracy = rnn_model.evaluate(X_test, y_test)\n",
    "print(f\"RNN Model Accuracy: {accuracy:.4f}\")\n"
   ]
  },
  {
   "cell_type": "code",
   "execution_count": null,
   "metadata": {},
   "outputs": [
    {
     "name": "stdout",
     "output_type": "stream",
     "text": [
      "\u001b[1m1/1\u001b[0m \u001b[32m━━━━━━━━━━━━━━━━━━━━\u001b[0m\u001b[37m\u001b[0m \u001b[1m0s\u001b[0m 24ms/step\n",
      "10\n",
      "\u001b[1m1/1\u001b[0m \u001b[32m━━━━━━━━━━━━━━━━━━━━\u001b[0m\u001b[37m\u001b[0m \u001b[1m0s\u001b[0m 26ms/step\n",
      "1469\n",
      "\u001b[1m1/1\u001b[0m \u001b[32m━━━━━━━━━━━━━━━━━━━━\u001b[0m\u001b[37m\u001b[0m \u001b[1m0s\u001b[0m 27ms/step\n",
      "116\n"
     ]
    }
   ],
   "source": [
    "def predict_sku(medicine_name, threshold=0.5):\n",
    "    # Preprocess the input name\n",
    "    cleaned_text = preprocessing(medicine_name)\n",
    "    \n",
    "    # Convert to sequence\n",
    "    seq = tokenizer.texts_to_sequences([cleaned_text])\n",
    "    padded_seq = pad_sequences(seq, maxlen=max_length, padding=\"post\", truncating=\"post\")\n",
    "\n",
    "    # Get model predictions\n",
    "    predictions = rnn_model.predict(padded_seq)[0]\n",
    "    \n",
    "    # Get highest probability SKU\n",
    "    max_prob = np.max(predictions)\n",
    "    predicted_label = np.argmax(predictions)\n",
    "\n",
    "    # If confidence is low, return \"unknown\"\n",
    "    if max_prob < threshold:\n",
    "        return \"unknown\"\n",
    "\n",
    "    # Convert label back to SKU\n",
    "    return label_encoder.inverse_transform([predicted_label])[0]\n",
    "\n",
    "# # Example Predictions\n",
    "# print(predict_sku(\"بانادول اكسترا\"))  # Should return the correct SKU or \"unknown\"\n",
    "# print(predict_sku(\"شوجارلو بلس 50/1000  30\"))  # Should return \"unknown\"\n",
    "# print(predict_sku(\"GLIPTUS PLUS 50/1000 MG 30 TAB\"))  # Should return \"unknown\"\n"
   ]
  },
  {
   "cell_type": "code",
   "execution_count": 15,
   "metadata": {},
   "outputs": [
    {
     "name": "stdout",
     "output_type": "stream",
     "text": [
      "\u001b[1m784/784\u001b[0m \u001b[32m━━━━━━━━━━━━━━━━━━━━\u001b[0m\u001b[37m\u001b[0m \u001b[1m4s\u001b[0m 4ms/step\n"
     ]
    }
   ],
   "source": [
    "probabilities = rnn_model.predict(X_test)\n",
    "\n",
    "confidence_scores = np.max(probabilities, axis=1)\n",
    "\n",
    "predicted_indices = np.argmax(probabilities, axis=1)\n",
    "\n",
    "predicted_labels = label_encoder.inverse_transform(predicted_indices)\n",
    "\n",
    "confidence_threshold = 0.85\n",
    "\n",
    "test_results = []\n",
    "\n",
    "for i in range(len(X_test)):\n",
    "    confidence = confidence_scores[i]\n",
    "    predicted_class = predicted_labels[i]\n",
    "\n",
    "    if confidence < confidence_threshold:\n",
    "        predicted_class = \"Unknown\"\n",
    "\n",
    "    test_results.append({\n",
    "        'Predicted': predicted_class,\n",
    "        'Confidence': f\"{confidence:.2f}\"\n",
    "    })\n",
    "\n",
    "temp_df = pd.DataFrame(test_results)\n",
    "\n",
    "temp_df.head()\n",
    "df.to_csv(\"predict.csv\" , index=False)\n"
   ]
  }
 ],
 "metadata": {
  "kernelspec": {
   "display_name": "Python 3 (ipykernel)",
   "language": "python",
   "name": "python3"
  },
  "language_info": {
   "codemirror_mode": {
    "name": "ipython",
    "version": 3
   },
   "file_extension": ".py",
   "mimetype": "text/x-python",
   "name": "python",
   "nbconvert_exporter": "python",
   "pygments_lexer": "ipython3",
   "version": "3.12.3"
  }
 },
 "nbformat": 4,
 "nbformat_minor": 2
}
