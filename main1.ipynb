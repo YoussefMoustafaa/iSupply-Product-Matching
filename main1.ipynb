{
 "cells": [
  {
   "cell_type": "markdown",
   "metadata": {},
   "source": [
    "# Import Libraries"
   ]
  },
  {
   "cell_type": "code",
   "execution_count": 8,
   "metadata": {},
   "outputs": [],
   "source": [
    "import pandas as pd\n",
    "import re\n",
    "import nltk\n",
    "from nltk.corpus import stopwords\n",
    "from nltk.tokenize import word_tokenize\n",
    "from symspellpy import SymSpell\n",
    "from difflib import SequenceMatcher\n",
    "from sklearn.feature_extraction.text import TfidfVectorizer\n",
    "from sklearn.model_selection import train_test_split\n",
    "from sklearn.linear_model import LogisticRegression\n",
    "from sklearn.metrics import accuracy_score"
   ]
  },
  {
   "cell_type": "markdown",
   "metadata": {},
   "source": [
    "# Read Dataset"
   ]
  },
  {
   "cell_type": "code",
   "execution_count": 9,
   "metadata": {},
   "outputs": [
    {
     "data": {
      "text/html": [
       "<div>\n",
       "<style scoped>\n",
       "    .dataframe tbody tr th:only-of-type {\n",
       "        vertical-align: middle;\n",
       "    }\n",
       "\n",
       "    .dataframe tbody tr th {\n",
       "        vertical-align: top;\n",
       "    }\n",
       "\n",
       "    .dataframe thead th {\n",
       "        text-align: right;\n",
       "    }\n",
       "</style>\n",
       "<table border=\"1\" class=\"dataframe\">\n",
       "  <thead>\n",
       "    <tr style=\"text-align: right;\">\n",
       "      <th></th>\n",
       "      <th>sku</th>\n",
       "      <th>marketplace_product_name_ar</th>\n",
       "      <th>seller_item_name</th>\n",
       "      <th>price</th>\n",
       "    </tr>\n",
       "  </thead>\n",
       "  <tbody>\n",
       "    <tr>\n",
       "      <th>0</th>\n",
       "      <td>1322</td>\n",
       "      <td>استوهالت 40 مجم 14 كبسول</td>\n",
       "      <td>ESTOHALT 40 MG 14 CAP</td>\n",
       "      <td>56.5</td>\n",
       "    </tr>\n",
       "    <tr>\n",
       "      <th>1</th>\n",
       "      <td>1322</td>\n",
       "      <td>استوهالت 40 مجم 14 كبسول</td>\n",
       "      <td>استوهالت 40 مجم 14 ك</td>\n",
       "      <td>56.5</td>\n",
       "    </tr>\n",
       "    <tr>\n",
       "      <th>2</th>\n",
       "      <td>1322</td>\n",
       "      <td>استوهالت 40 مجم 14 كبسول</td>\n",
       "      <td>استوهالت 40 مجم 14 ك</td>\n",
       "      <td>56.5</td>\n",
       "    </tr>\n",
       "    <tr>\n",
       "      <th>3</th>\n",
       "      <td>1322</td>\n",
       "      <td>استوهالت 40 مجم 14 كبسول</td>\n",
       "      <td>استوهالت 40 مجم 14 ك</td>\n",
       "      <td>56.5</td>\n",
       "    </tr>\n",
       "    <tr>\n",
       "      <th>4</th>\n",
       "      <td>1322</td>\n",
       "      <td>استوهالت 40 مجم 14 كبسول</td>\n",
       "      <td>استوهالت 40 مجم 14 ك</td>\n",
       "      <td>56.5</td>\n",
       "    </tr>\n",
       "    <tr>\n",
       "      <th>5</th>\n",
       "      <td>1322</td>\n",
       "      <td>استوهالت 40 مجم 14 كبسول</td>\n",
       "      <td>استوهالت 40 مجم 14 ك</td>\n",
       "      <td>56.5</td>\n",
       "    </tr>\n",
       "    <tr>\n",
       "      <th>6</th>\n",
       "      <td>1322</td>\n",
       "      <td>استوهالت 40 مجم 14 كبسول</td>\n",
       "      <td>استوهالت 40 مجم 14 ك</td>\n",
       "      <td>56.5</td>\n",
       "    </tr>\n",
       "    <tr>\n",
       "      <th>7</th>\n",
       "      <td>1322</td>\n",
       "      <td>استوهالت 40 مجم 14 كبسول</td>\n",
       "      <td>استوهالت 40 مجم 1 شريط * 14 كبسولة</td>\n",
       "      <td>56.5</td>\n",
       "    </tr>\n",
       "    <tr>\n",
       "      <th>8</th>\n",
       "      <td>1322</td>\n",
       "      <td>استوهالت 40 مجم 14 كبسول</td>\n",
       "      <td>استوهالت 40 مجم</td>\n",
       "      <td>56.5</td>\n",
       "    </tr>\n",
       "    <tr>\n",
       "      <th>9</th>\n",
       "      <td>1322</td>\n",
       "      <td>استوهالت 40 مجم 14 كبسول</td>\n",
       "      <td>استوهالت 40 كبسول س ج</td>\n",
       "      <td>56.5</td>\n",
       "    </tr>\n",
       "  </tbody>\n",
       "</table>\n",
       "</div>"
      ],
      "text/plain": [
       "    sku marketplace_product_name_ar                    seller_item_name  price\n",
       "0  1322    استوهالت 40 مجم 14 كبسول               ESTOHALT 40 MG 14 CAP   56.5\n",
       "1  1322    استوهالت 40 مجم 14 كبسول                استوهالت 40 مجم 14 ك   56.5\n",
       "2  1322    استوهالت 40 مجم 14 كبسول                استوهالت 40 مجم 14 ك   56.5\n",
       "3  1322    استوهالت 40 مجم 14 كبسول                استوهالت 40 مجم 14 ك   56.5\n",
       "4  1322    استوهالت 40 مجم 14 كبسول                استوهالت 40 مجم 14 ك   56.5\n",
       "5  1322    استوهالت 40 مجم 14 كبسول                استوهالت 40 مجم 14 ك   56.5\n",
       "6  1322    استوهالت 40 مجم 14 كبسول                استوهالت 40 مجم 14 ك   56.5\n",
       "7  1322    استوهالت 40 مجم 14 كبسول  استوهالت 40 مجم 1 شريط * 14 كبسولة   56.5\n",
       "8  1322    استوهالت 40 مجم 14 كبسول                     استوهالت 40 مجم   56.5\n",
       "9  1322    استوهالت 40 مجم 14 كبسول               استوهالت 40 كبسول س ج   56.5"
      ]
     },
     "execution_count": 9,
     "metadata": {},
     "output_type": "execute_result"
    }
   ],
   "source": [
    "df = pd.read_excel(\"Product Matching Dataset.xlsx\" , sheet_name=\"Dataset\")\n",
    "df.head(n=10)"
   ]
  },
  {
   "cell_type": "markdown",
   "metadata": {},
   "source": [
    "# Preprocessing"
   ]
  },
  {
   "cell_type": "code",
   "execution_count": 10,
   "metadata": {},
   "outputs": [],
   "source": [
    "stop_words = set(stopwords.words(\"arabic\",\"english\"))\n",
    "# text_column = df[\"seller_item_name\"].astype(str)  # Ensure text format"
   ]
  },
  {
   "cell_type": "code",
   "execution_count": null,
   "metadata": {},
   "outputs": [],
   "source": [
    "def preprocessing(text):\n",
    "    # Remove stopwords\n",
    "    text = \" \".join(word for word in text.split() if word not in stop_words)\n",
    "    # Remove punctuation & special characters (Keep Arabic, English, and Numbers)\n",
    "    text = re.sub(r\"[^\\w\\s\\u0600-\\u06FF]\", \" \", text)\n",
    "    # Remove Arabic diacritics (Tashkeel)\n",
    "    text = re.sub(r\"[\\u064B-\\u065F]\", \"\", text)\n",
    "\n",
    "    text = re.sub(r'[إأآ]', 'ا', text)\n",
    "    text = re.sub(r'ى', 'ي', text)\n",
    "    text = re.sub(r'ة', 'ه ', text)\n",
    "    text = re.sub(r'ؤ', 'و', text)\n",
    "    text = re.sub(r'ئ', 'ي', text)\n",
    "    text = re.sub(r'ــ', '', text)\n",
    "    text = re.sub(r\"(\\d+)\", r\" \\1 \", text)\n",
    "    text = re.sub(r\"\\b[\\u0600-\\u06FF]\\b\", \"\", text)\n",
    "    text = re.sub(r'([\\u0600-\\u06FF])\\1{2,}', r'\\1\\1', text)\n",
    "    text = re.sub(r'(.)\\1+', r'\\1', text) # remove repetitions\n",
    "    text = re.sub(r'\\b\\w\\b', '', text)  # Removes standalone single characters\n",
    "    text = re.sub(r'\\b(?:سعر جديد|س جديد|س جدي|س ج|ركز)\\b', '', text)# Remove specific unwanted phrases\n",
    "    text = re.sub( r'مرهم|اكريم', 'كريم', text)\n",
    "    text = re.sub( r'قرص|اقراص|كبسوله', 'كبسول', text)\n",
    "    text = re.sub( r'اقراص|شريط|شرائط|شريطين', 'قرص', text)\n",
    "    text = re.sub( r'امبولات|امبوله|حقن', 'امبول', text)\n",
    "    text = re.sub( r'لبوس|لبوس اطفال|لبوس اطفال فاركو', 'اقماع للاطفال', text)\n",
    "    text = re.sub(r\"\\s+\", \" \", text).strip()\n",
    "    \n",
    "    return text"
   ]
  },
  {
   "cell_type": "code",
   "execution_count": 12,
   "metadata": {},
   "outputs": [],
   "source": [
    "df[\"cleaned_seller_item_name\"] = df[\"seller_item_name\"].astype(str).apply(preprocessing)"
   ]
  },
  {
   "cell_type": "markdown",
   "metadata": {},
   "source": [
    "# Build SymSpell Dictionary"
   ]
  },
  {
   "cell_type": "code",
   "execution_count": 13,
   "metadata": {},
   "outputs": [],
   "source": [
    "# word_freq_dict = {}\n",
    "# for product in df[\"marketplace_product_name_ar\"].dropna():\n",
    "#     normalized_product = str(product).strip()\n",
    "#     word_freq_dict[normalized_product] = word_freq_dict.get(normalized_product, 0) + 1\n",
    "\n",
    "# # Save dictionary\n",
    "# dict_file = \"product_dictionary.txt\"\n",
    "# with open(dict_file, \"w\", encoding=\"utf-8\") as f:\n",
    "#     for word, freq in word_freq_dict.items():\n",
    "#         f.write(f\"{word} {freq}\\n\")\n",
    "\n",
    "# # Initialize SymSpell\n",
    "# sym_spell = SymSpell(max_dictionary_edit_distance=2, prefix_length=7)\n",
    "# sym_spell.load_dictionary(dict_file, term_index=0, count_index=1, encoding=\"utf-8\")\n",
    "\n",
    "# # 3. Apply SymSpell Correction\n",
    "# def correct_text(text):\n",
    "#     suggestions = sym_spell.lookup(text, verbosity=2, max_edit_distance=2)\n",
    "#     return suggestions[0].term if suggestions else text\n",
    "\n",
    "# df[\"corrected_seller_item_name\"] = df[\"cleaned_seller_item_name\"].apply(correct_text)"
   ]
  },
  {
   "cell_type": "markdown",
   "metadata": {},
   "source": [
    "# Train Models"
   ]
  },
  {
   "cell_type": "code",
   "execution_count": 14,
   "metadata": {},
   "outputs": [
    {
     "name": "stdout",
     "output_type": "stream",
     "text": [
      "Model Accuracy: 0.8627\n"
     ]
    }
   ],
   "source": [
    "x = df[\"cleaned_seller_item_name\"]\n",
    "y = df[\"sku\"]\n",
    "vectorizer = TfidfVectorizer(max_features=500)\n",
    "x_tfidf = vectorizer.fit_transform(x)\n",
    "\n",
    "X_train, X_test, y_train, y_test = train_test_split(x_tfidf, y, test_size=0.3, random_state=42)\n",
    "\n",
    "# Train Logistic Regression Model\n",
    "model = LogisticRegression()\n",
    "model.fit(X_train, y_train)\n",
    "\n",
    "# Predict on Test Data\n",
    "y_pred = model.predict(X_test)\n",
    "accuracy = accuracy_score(y_test, y_pred)\n",
    "print(f\"Model Accuracy: {accuracy:.4f}\")"
   ]
  },
  {
   "cell_type": "code",
   "execution_count": 15,
   "metadata": {},
   "outputs": [
    {
     "name": "stdout",
     "output_type": "stream",
     "text": [
      "Epoch 1/20\n"
     ]
    },
    {
     "name": "stderr",
     "output_type": "stream",
     "text": [
      "C:\\Users\\hassa\\AppData\\Local\\Programs\\Python\\Python312\\Lib\\site-packages\\keras\\src\\layers\\core\\embedding.py:90: UserWarning: Argument `input_length` is deprecated. Just remove it.\n",
      "  warnings.warn(\n"
     ]
    },
    {
     "name": "stdout",
     "output_type": "stream",
     "text": [
      "\u001b[1m1828/1828\u001b[0m \u001b[32m━━━━━━━━━━━━━━━━━━━━\u001b[0m\u001b[37m\u001b[0m \u001b[1m22s\u001b[0m 10ms/step - accuracy: 0.0126 - loss: 5.4163 - val_accuracy: 0.1062 - val_loss: 3.4601\n",
      "Epoch 2/20\n",
      "\u001b[1m1828/1828\u001b[0m \u001b[32m━━━━━━━━━━━━━━━━━━━━\u001b[0m\u001b[37m\u001b[0m \u001b[1m21s\u001b[0m 11ms/step - accuracy: 0.1044 - loss: 3.2931 - val_accuracy: 0.2397 - val_loss: 2.4590\n",
      "Epoch 3/20\n",
      "\u001b[1m1828/1828\u001b[0m \u001b[32m━━━━━━━━━━━━━━━━━━━━\u001b[0m\u001b[37m\u001b[0m \u001b[1m20s\u001b[0m 11ms/step - accuracy: 0.2185 - loss: 2.4867 - val_accuracy: 0.4726 - val_loss: 1.7062\n",
      "Epoch 4/20\n",
      "\u001b[1m1828/1828\u001b[0m \u001b[32m━━━━━━━━━━━━━━━━━━━━\u001b[0m\u001b[37m\u001b[0m \u001b[1m19s\u001b[0m 10ms/step - accuracy: 0.3793 - loss: 1.8716 - val_accuracy: 0.6644 - val_loss: 1.1847\n",
      "Epoch 5/20\n",
      "\u001b[1m1828/1828\u001b[0m \u001b[32m━━━━━━━━━━━━━━━━━━━━\u001b[0m\u001b[37m\u001b[0m \u001b[1m19s\u001b[0m 10ms/step - accuracy: 0.5598 - loss: 1.3347 - val_accuracy: 0.8313 - val_loss: 0.7107\n",
      "Epoch 6/20\n",
      "\u001b[1m1828/1828\u001b[0m \u001b[32m━━━━━━━━━━━━━━━━━━━━\u001b[0m\u001b[37m\u001b[0m \u001b[1m19s\u001b[0m 10ms/step - accuracy: 0.7122 - loss: 0.9053 - val_accuracy: 0.8911 - val_loss: 0.4596\n",
      "Epoch 7/20\n",
      "\u001b[1m1828/1828\u001b[0m \u001b[32m━━━━━━━━━━━━━━━━━━━━\u001b[0m\u001b[37m\u001b[0m \u001b[1m20s\u001b[0m 11ms/step - accuracy: 0.8000 - loss: 0.6320 - val_accuracy: 0.9217 - val_loss: 0.3747\n",
      "Epoch 8/20\n",
      "\u001b[1m1828/1828\u001b[0m \u001b[32m━━━━━━━━━━━━━━━━━━━━\u001b[0m\u001b[37m\u001b[0m \u001b[1m21s\u001b[0m 11ms/step - accuracy: 0.8526 - loss: 0.4750 - val_accuracy: 0.9331 - val_loss: 0.3089\n",
      "Epoch 9/20\n",
      "\u001b[1m1828/1828\u001b[0m \u001b[32m━━━━━━━━━━━━━━━━━━━━\u001b[0m\u001b[37m\u001b[0m \u001b[1m21s\u001b[0m 11ms/step - accuracy: 0.8816 - loss: 0.3631 - val_accuracy: 0.9374 - val_loss: 0.2854\n",
      "Epoch 10/20\n",
      "\u001b[1m1828/1828\u001b[0m \u001b[32m━━━━━━━━━━━━━━━━━━━━\u001b[0m\u001b[37m\u001b[0m \u001b[1m22s\u001b[0m 12ms/step - accuracy: 0.9010 - loss: 0.3057 - val_accuracy: 0.9440 - val_loss: 0.2546\n",
      "Epoch 11/20\n",
      "\u001b[1m1828/1828\u001b[0m \u001b[32m━━━━━━━━━━━━━━━━━━━━\u001b[0m\u001b[37m\u001b[0m \u001b[1m22s\u001b[0m 12ms/step - accuracy: 0.9177 - loss: 0.2427 - val_accuracy: 0.9477 - val_loss: 0.2570\n",
      "Epoch 12/20\n",
      "\u001b[1m1828/1828\u001b[0m \u001b[32m━━━━━━━━━━━━━━━━━━━━\u001b[0m\u001b[37m\u001b[0m \u001b[1m20s\u001b[0m 11ms/step - accuracy: 0.9256 - loss: 0.2166 - val_accuracy: 0.9469 - val_loss: 0.2487\n",
      "Epoch 13/20\n",
      "\u001b[1m1828/1828\u001b[0m \u001b[32m━━━━━━━━━━━━━━━━━━━━\u001b[0m\u001b[37m\u001b[0m \u001b[1m20s\u001b[0m 11ms/step - accuracy: 0.9342 - loss: 0.1863 - val_accuracy: 0.9486 - val_loss: 0.2723\n",
      "Epoch 14/20\n",
      "\u001b[1m1828/1828\u001b[0m \u001b[32m━━━━━━━━━━━━━━━━━━━━\u001b[0m\u001b[37m\u001b[0m \u001b[1m21s\u001b[0m 11ms/step - accuracy: 0.9386 - loss: 0.1676 - val_accuracy: 0.9519 - val_loss: 0.2429\n",
      "Epoch 15/20\n",
      "\u001b[1m1828/1828\u001b[0m \u001b[32m━━━━━━━━━━━━━━━━━━━━\u001b[0m\u001b[37m\u001b[0m \u001b[1m21s\u001b[0m 12ms/step - accuracy: 0.9421 - loss: 0.1509 - val_accuracy: 0.9540 - val_loss: 0.2601\n",
      "Epoch 16/20\n",
      "\u001b[1m1828/1828\u001b[0m \u001b[32m━━━━━━━━━━━━━━━━━━━━\u001b[0m\u001b[37m\u001b[0m \u001b[1m22s\u001b[0m 12ms/step - accuracy: 0.9450 - loss: 0.1451 - val_accuracy: 0.9525 - val_loss: 0.2574\n",
      "Epoch 17/20\n",
      "\u001b[1m1828/1828\u001b[0m \u001b[32m━━━━━━━━━━━━━━━━━━━━\u001b[0m\u001b[37m\u001b[0m \u001b[1m20s\u001b[0m 11ms/step - accuracy: 0.9463 - loss: 0.1360 - val_accuracy: 0.9546 - val_loss: 0.2656\n",
      "Epoch 18/20\n",
      "\u001b[1m1828/1828\u001b[0m \u001b[32m━━━━━━━━━━━━━━━━━━━━\u001b[0m\u001b[37m\u001b[0m \u001b[1m19s\u001b[0m 10ms/step - accuracy: 0.9507 - loss: 0.1238 - val_accuracy: 0.9554 - val_loss: 0.2573\n",
      "Epoch 19/20\n",
      "\u001b[1m1828/1828\u001b[0m \u001b[32m━━━━━━━━━━━━━━━━━━━━\u001b[0m\u001b[37m\u001b[0m \u001b[1m19s\u001b[0m 11ms/step - accuracy: 0.9535 - loss: 0.1155 - val_accuracy: 0.9549 - val_loss: 0.2703\n",
      "Epoch 20/20\n",
      "\u001b[1m1828/1828\u001b[0m \u001b[32m━━━━━━━━━━━━━━━━━━━━\u001b[0m\u001b[37m\u001b[0m \u001b[1m21s\u001b[0m 11ms/step - accuracy: 0.9555 - loss: 0.1088 - val_accuracy: 0.9548 - val_loss: 0.2669\n",
      "\u001b[1m784/784\u001b[0m \u001b[32m━━━━━━━━━━━━━━━━━━━━\u001b[0m\u001b[37m\u001b[0m \u001b[1m2s\u001b[0m 3ms/step - accuracy: 0.9564 - loss: 0.2517\n",
      "RNN Model Accuracy: 0.9548\n"
     ]
    }
   ],
   "source": [
    "import numpy as np\n",
    "import tensorflow as tf\n",
    "from tensorflow.keras.preprocessing.text import Tokenizer\n",
    "from tensorflow.keras.preprocessing.sequence import pad_sequences\n",
    "from tensorflow.keras.models import Sequential\n",
    "from tensorflow.keras.layers import Embedding, LSTM, Dense, Dropout\n",
    "from sklearn.preprocessing import LabelEncoder\n",
    "from sklearn.model_selection import train_test_split\n",
    "\n",
    "# Convert text labels (SKU) into numerical values\n",
    "label_encoder = LabelEncoder()\n",
    "y_encoded = label_encoder.fit_transform(df[\"sku\"])\n",
    "\n",
    "# Tokenize the text data\n",
    "tokenizer = Tokenizer(num_words=5000, oov_token=\"<OOV>\")\n",
    "tokenizer.fit_on_texts(df[\"cleaned_seller_item_name\"])\n",
    "sequences = tokenizer.texts_to_sequences(df[\"cleaned_seller_item_name\"])\n",
    "\n",
    "# Pad sequences to ensure consistent input size\n",
    "max_length = max(len(seq) for seq in sequences)\n",
    "x_padded = pad_sequences(sequences, maxlen=max_length, padding=\"post\", truncating=\"post\")\n",
    "\n",
    "# Split dataset\n",
    "X_train, X_test, y_train, y_test = train_test_split(x_padded, y_encoded, test_size=0.3, random_state=42)\n",
    "\n",
    "\n",
    "model = Sequential([\n",
    "    Embedding(input_dim=5000, output_dim=128, input_length=max_length),\n",
    "    LSTM(64, return_sequences=True),\n",
    "    Dropout(0.2),\n",
    "    LSTM(32),\n",
    "    Dropout(0.2),\n",
    "    Dense(32, activation=\"relu\"),\n",
    "    Dense(len(label_encoder.classes_), activation=\"softmax\")  # Output layer for classification\n",
    "])\n",
    "\n",
    "# Compile model\n",
    "model.compile(loss=\"sparse_categorical_crossentropy\", optimizer=\"adam\", metrics=[\"accuracy\"])\n",
    "\n",
    "# Train model\n",
    "history = model.fit(X_train, y_train, epochs=20, batch_size=32, validation_data=(X_test, y_test))\n",
    "\n",
    "loss, accuracy = model.evaluate(X_test, y_test)\n",
    "print(f\"RNN Model Accuracy: {accuracy:.4f}\")\n"
   ]
  },
  {
   "cell_type": "code",
   "execution_count": 51,
   "metadata": {},
   "outputs": [
    {
     "name": "stderr",
     "output_type": "stream",
     "text": [
      "C:\\Users\\hassa\\AppData\\Local\\Temp\\ipykernel_2076\\145321265.py:14: FutureWarning: Setting an item of incompatible dtype is deprecated and will raise an error in a future version of pandas. Value 'unknown' has dtype incompatible with int64, please explicitly cast to a compatible dtype first.\n",
      "  df.loc[df[\"sku\"].isna(), \"sku\"] = \"unknown\"\n"
     ]
    },
    {
     "name": "stdout",
     "output_type": "stream",
     "text": [
      "Epoch 1/20\n"
     ]
    },
    {
     "name": "stderr",
     "output_type": "stream",
     "text": [
      "C:\\Users\\hassa\\AppData\\Local\\Programs\\Python\\Python312\\Lib\\site-packages\\keras\\src\\layers\\core\\embedding.py:90: UserWarning: Argument `input_length` is deprecated. Just remove it.\n",
      "  warnings.warn(\n"
     ]
    },
    {
     "name": "stdout",
     "output_type": "stream",
     "text": [
      "\u001b[1m1828/1828\u001b[0m \u001b[32m━━━━━━━━━━━━━━━━━━━━\u001b[0m\u001b[37m\u001b[0m \u001b[1m24s\u001b[0m 12ms/step - accuracy: 0.0334 - loss: 5.1512 - val_accuracy: 0.2980 - val_loss: 2.4785\n",
      "Epoch 2/20\n",
      "\u001b[1m1828/1828\u001b[0m \u001b[32m━━━━━━━━━━━━━━━━━━━━\u001b[0m\u001b[37m\u001b[0m \u001b[1m18s\u001b[0m 10ms/step - accuracy: 0.2881 - loss: 2.3755 - val_accuracy: 0.6312 - val_loss: 1.3206\n",
      "Epoch 3/20\n",
      "\u001b[1m1828/1828\u001b[0m \u001b[32m━━━━━━━━━━━━━━━━━━━━\u001b[0m\u001b[37m\u001b[0m \u001b[1m19s\u001b[0m 10ms/step - accuracy: 0.5020 - loss: 1.5101 - val_accuracy: 0.8125 - val_loss: 0.7781\n",
      "Epoch 4/20\n",
      "\u001b[1m1828/1828\u001b[0m \u001b[32m━━━━━━━━━━━━━━━━━━━━\u001b[0m\u001b[37m\u001b[0m \u001b[1m21s\u001b[0m 12ms/step - accuracy: 0.6615 - loss: 1.0434 - val_accuracy: 0.8850 - val_loss: 0.4917\n",
      "Epoch 5/20\n",
      "\u001b[1m1828/1828\u001b[0m \u001b[32m━━━━━━━━━━━━━━━━━━━━\u001b[0m\u001b[37m\u001b[0m \u001b[1m17s\u001b[0m 9ms/step - accuracy: 0.7671 - loss: 0.7258 - val_accuracy: 0.9112 - val_loss: 0.3772\n",
      "Epoch 6/20\n",
      "\u001b[1m1828/1828\u001b[0m \u001b[32m━━━━━━━━━━━━━━━━━━━━\u001b[0m\u001b[37m\u001b[0m \u001b[1m17s\u001b[0m 9ms/step - accuracy: 0.8247 - loss: 0.5406 - val_accuracy: 0.9288 - val_loss: 0.2939\n",
      "Epoch 7/20\n",
      "\u001b[1m1828/1828\u001b[0m \u001b[32m━━━━━━━━━━━━━━━━━━━━\u001b[0m\u001b[37m\u001b[0m \u001b[1m20s\u001b[0m 11ms/step - accuracy: 0.8572 - loss: 0.4342 - val_accuracy: 0.9349 - val_loss: 0.2921\n",
      "Epoch 8/20\n",
      "\u001b[1m1828/1828\u001b[0m \u001b[32m━━━━━━━━━━━━━━━━━━━━\u001b[0m\u001b[37m\u001b[0m \u001b[1m20s\u001b[0m 11ms/step - accuracy: 0.8838 - loss: 0.3433 - val_accuracy: 0.9410 - val_loss: 0.2857\n",
      "Epoch 9/20\n",
      "\u001b[1m1828/1828\u001b[0m \u001b[32m━━━━━━━━━━━━━━━━━━━━\u001b[0m\u001b[37m\u001b[0m \u001b[1m21s\u001b[0m 12ms/step - accuracy: 0.9069 - loss: 0.2800 - val_accuracy: 0.9405 - val_loss: 0.2651\n",
      "Epoch 10/20\n",
      "\u001b[1m1828/1828\u001b[0m \u001b[32m━━━━━━━━━━━━━━━━━━━━\u001b[0m\u001b[37m\u001b[0m \u001b[1m17s\u001b[0m 10ms/step - accuracy: 0.9161 - loss: 0.2492 - val_accuracy: 0.9458 - val_loss: 0.2555\n",
      "Epoch 11/20\n",
      "\u001b[1m1828/1828\u001b[0m \u001b[32m━━━━━━━━━━━━━━━━━━━━\u001b[0m\u001b[37m\u001b[0m \u001b[1m18s\u001b[0m 10ms/step - accuracy: 0.9261 - loss: 0.2090 - val_accuracy: 0.9494 - val_loss: 0.2608\n",
      "Epoch 12/20\n",
      "\u001b[1m1828/1828\u001b[0m \u001b[32m━━━━━━━━━━━━━━━━━━━━\u001b[0m\u001b[37m\u001b[0m \u001b[1m17s\u001b[0m 9ms/step - accuracy: 0.9305 - loss: 0.1910 - val_accuracy: 0.9499 - val_loss: 0.2640\n",
      "Epoch 13/20\n",
      "\u001b[1m1828/1828\u001b[0m \u001b[32m━━━━━━━━━━━━━━━━━━━━\u001b[0m\u001b[37m\u001b[0m \u001b[1m17s\u001b[0m 9ms/step - accuracy: 0.9373 - loss: 0.1664 - val_accuracy: 0.9504 - val_loss: 0.2760\n",
      "Epoch 14/20\n",
      "\u001b[1m1828/1828\u001b[0m \u001b[32m━━━━━━━━━━━━━━━━━━━━\u001b[0m\u001b[37m\u001b[0m \u001b[1m18s\u001b[0m 10ms/step - accuracy: 0.9405 - loss: 0.1568 - val_accuracy: 0.9517 - val_loss: 0.2657\n",
      "Epoch 15/20\n",
      "\u001b[1m1828/1828\u001b[0m \u001b[32m━━━━━━━━━━━━━━━━━━━━\u001b[0m\u001b[37m\u001b[0m \u001b[1m18s\u001b[0m 10ms/step - accuracy: 0.9479 - loss: 0.1363 - val_accuracy: 0.9524 - val_loss: 0.2626\n",
      "Epoch 16/20\n",
      "\u001b[1m1828/1828\u001b[0m \u001b[32m━━━━━━━━━━━━━━━━━━━━\u001b[0m\u001b[37m\u001b[0m \u001b[1m18s\u001b[0m 10ms/step - accuracy: 0.9511 - loss: 0.1261 - val_accuracy: 0.9516 - val_loss: 0.2617\n",
      "Epoch 17/20\n",
      "\u001b[1m1828/1828\u001b[0m \u001b[32m━━━━━━━━━━━━━━━━━━━━\u001b[0m\u001b[37m\u001b[0m \u001b[1m18s\u001b[0m 10ms/step - accuracy: 0.9497 - loss: 0.1261 - val_accuracy: 0.9541 - val_loss: 0.2710\n",
      "Epoch 18/20\n",
      "\u001b[1m1828/1828\u001b[0m \u001b[32m━━━━━━━━━━━━━━━━━━━━\u001b[0m\u001b[37m\u001b[0m \u001b[1m18s\u001b[0m 10ms/step - accuracy: 0.9533 - loss: 0.1161 - val_accuracy: 0.9535 - val_loss: 0.3010\n",
      "Epoch 19/20\n",
      "\u001b[1m1828/1828\u001b[0m \u001b[32m━━━━━━━━━━━━━━━━━━━━\u001b[0m\u001b[37m\u001b[0m \u001b[1m21s\u001b[0m 12ms/step - accuracy: 0.9540 - loss: 0.1126 - val_accuracy: 0.9543 - val_loss: 0.2741\n",
      "Epoch 20/20\n",
      "\u001b[1m1828/1828\u001b[0m \u001b[32m━━━━━━━━━━━━━━━━━━━━\u001b[0m\u001b[37m\u001b[0m \u001b[1m18s\u001b[0m 10ms/step - accuracy: 0.9559 - loss: 0.1068 - val_accuracy: 0.9556 - val_loss: 0.2985\n",
      "\u001b[1m784/784\u001b[0m \u001b[32m━━━━━━━━━━━━━━━━━━━━\u001b[0m\u001b[37m\u001b[0m \u001b[1m2s\u001b[0m 2ms/step - accuracy: 0.9558 - loss: 0.2772\n",
      "RNN Model Accuracy: 0.9556\n"
     ]
    }
   ],
   "source": [
    "import numpy as np\n",
    "import tensorflow as tf\n",
    "from tensorflow.keras.preprocessing.text import Tokenizer\n",
    "from tensorflow.keras.preprocessing.sequence import pad_sequences\n",
    "from tensorflow.keras.models import Sequential\n",
    "from tensorflow.keras.layers import Embedding, LSTM, Dense, Dropout\n",
    "from sklearn.preprocessing import LabelEncoder\n",
    "from sklearn.model_selection import train_test_split\n",
    "\n",
    "# Ensure text is cleaned before processing\n",
    "df[\"cleaned_seller_item_name\"] = df[\"seller_item_name\"].astype(str).apply(preprocessing)\n",
    "\n",
    "# Add an \"unknown\" class for medicines not in the dataset\n",
    "df.loc[df[\"sku\"].isna(), \"sku\"] = \"unknown\"\n",
    "\n",
    "# Encode labels (SKUs)\n",
    "label_encoder = LabelEncoder()\n",
    "df[\"encoded_sku\"] = label_encoder.fit_transform(df[\"sku\"])  # Convert SKU to numbers\n",
    "\n",
    "# Tokenize text data\n",
    "tokenizer = Tokenizer(num_words=5000, oov_token=\"<OOV>\")  # Handle unknown words\n",
    "tokenizer.fit_on_texts(df[\"cleaned_seller_item_name\"])\n",
    "sequences = tokenizer.texts_to_sequences(df[\"cleaned_seller_item_name\"])\n",
    "\n",
    "# Pad sequences to make them uniform\n",
    "max_length = max(len(seq) for seq in sequences)\n",
    "x_padded = pad_sequences(sequences, maxlen=max_length, padding=\"post\", truncating=\"post\")\n",
    "\n",
    "# Prepare train/test sets\n",
    "X_train, X_test, y_train, y_test = train_test_split(x_padded, df[\"encoded_sku\"], test_size=0.3, random_state=42)\n",
    "\n",
    "# Build the RNN model\n",
    "model = Sequential([\n",
    "    Embedding(input_dim=5000, output_dim=128, input_length=max_length),\n",
    "    LSTM(64, return_sequences=True),\n",
    "    Dropout(0.2),\n",
    "    LSTM(32),\n",
    "    Dropout(0.2),\n",
    "    Dense(32, activation=\"relu\"),\n",
    "    Dense(len(label_encoder.classes_), activation=\"softmax\")  # Output layer for SKU classification\n",
    "])\n",
    "\n",
    "# Compile the model\n",
    "model.compile(loss=\"sparse_categorical_crossentropy\", optimizer=\"adam\", metrics=[\"accuracy\"])\n",
    "\n",
    "# Train the model\n",
    "history = model.fit(X_train, y_train, epochs=20, batch_size=32, validation_data=(X_test, y_test))\n",
    "\n",
    "# Evaluate accuracy\n",
    "loss, accuracy = model.evaluate(X_test, y_test)\n",
    "print(f\"RNN Model Accuracy: {accuracy:.4f}\")\n"
   ]
  },
  {
   "cell_type": "code",
   "execution_count": 64,
   "metadata": {},
   "outputs": [
    {
     "name": "stdout",
     "output_type": "stream",
     "text": [
      "\u001b[1m1/1\u001b[0m \u001b[32m━━━━━━━━━━━━━━━━━━━━\u001b[0m\u001b[37m\u001b[0m \u001b[1m0s\u001b[0m 37ms/step\n",
      "10\n",
      "\u001b[1m1/1\u001b[0m \u001b[32m━━━━━━━━━━━━━━━━━━━━\u001b[0m\u001b[37m\u001b[0m \u001b[1m0s\u001b[0m 27ms/step\n",
      "15\n"
     ]
    }
   ],
   "source": [
    "def predict_sku(medicine_name, threshold=0.5):\n",
    "    # Preprocess the input name\n",
    "    cleaned_text = preprocessing(medicine_name)\n",
    "    \n",
    "    # Convert to sequence\n",
    "    seq = tokenizer.texts_to_sequences([cleaned_text])\n",
    "    padded_seq = pad_sequences(seq, maxlen=max_length, padding=\"post\", truncating=\"post\")\n",
    "\n",
    "    # Get model predictions\n",
    "    predictions = model.predict(padded_seq)[0]\n",
    "    \n",
    "    # Get highest probability SKU\n",
    "    max_prob = np.max(predictions)\n",
    "    predicted_label = np.argmax(predictions)\n",
    "\n",
    "    # If confidence is low, return \"unknown\"\n",
    "    if max_prob < threshold:\n",
    "        return \"unknown\"\n",
    "\n",
    "    # Convert label back to SKU\n",
    "    return label_encoder.inverse_transform([predicted_label])[0]\n",
    "\n",
    "# Example Predictions\n",
    "print(predict_sku(\"بانادول اكسترا\"))  # Should return the correct SKU or \"unknown\"\n",
    "print(predict_sku(\"فيروجلوبين 30\"))  # Should return \"unknown\"\n"
   ]
  }
 ],
 "metadata": {
  "kernelspec": {
   "display_name": "Python 3 (ipykernel)",
   "language": "python",
   "name": "python3"
  },
  "language_info": {
   "codemirror_mode": {
    "name": "ipython",
    "version": 3
   },
   "file_extension": ".py",
   "mimetype": "text/x-python",
   "name": "python",
   "nbconvert_exporter": "python",
   "pygments_lexer": "ipython3",
   "version": "3.12.3"
  }
 },
 "nbformat": 4,
 "nbformat_minor": 2
}
